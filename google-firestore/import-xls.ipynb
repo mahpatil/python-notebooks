{
 "cells": [
  {
   "cell_type": "code",
   "execution_count": 2,
   "outputs": [],
   "source": [
    "import pandas as pd\n",
    "from google.cloud import firestore\n",
    "# Initialize Firestore client\n",
    "db = firestore.Client()"
   ],
   "metadata": {
    "collapsed": false,
    "ExecuteTime": {
     "end_time": "2024-01-01T21:22:44.083596Z",
     "start_time": "2024-01-01T21:22:41.619783Z"
    }
   }
  },
  {
   "cell_type": "code",
   "execution_count": 3,
   "metadata": {
    "collapsed": true,
    "ExecuteTime": {
     "end_time": "2024-01-01T21:22:57.702767Z",
     "start_time": "2024-01-01T21:22:57.461020Z"
    }
   },
   "outputs": [
    {
     "data": {
      "text/plain": "   tenantId levelCode  levelSequenceNumber        levelName  levelAltName\n0      KSKA       Nov                    1            White        Novice\n1      KSKA       L10                    2             Blue          10th\n2      KSKA        L9                    3           Orange           9th\n3      KSKA        L8                    4              Red           8th\n4      KSKA        L7                    5           Yellow           7th\n5      KSKA        L6                    6            Green           6th\n6      KSKA        L5                    7           Purple           5th\n7      KSKA        L4                    8     Purple White           4th\n8      KSKA        L3                    9            Brown           3rd\n9      KSKA        L2                   10    Brown & white           2nd\n10     KSKA        L1                   11  Brown & 2 white           1st\n11     KSKA     PSHO1                   12    Brown & 1 red  Pre Shodan 1\n12     KSKA     PSHO2                   13    Brown & 2 red  Pre Shodan 2\n13     KSKA     PSHO3                   14    Brown & Black  Pre Shodan 3\n14     KSKA     SHO01                   15            Black        Shodan",
      "text/html": "<div>\n<style scoped>\n    .dataframe tbody tr th:only-of-type {\n        vertical-align: middle;\n    }\n\n    .dataframe tbody tr th {\n        vertical-align: top;\n    }\n\n    .dataframe thead th {\n        text-align: right;\n    }\n</style>\n<table border=\"1\" class=\"dataframe\">\n  <thead>\n    <tr style=\"text-align: right;\">\n      <th></th>\n      <th>tenantId</th>\n      <th>levelCode</th>\n      <th>levelSequenceNumber</th>\n      <th>levelName</th>\n      <th>levelAltName</th>\n    </tr>\n  </thead>\n  <tbody>\n    <tr>\n      <th>0</th>\n      <td>KSKA</td>\n      <td>Nov</td>\n      <td>1</td>\n      <td>White</td>\n      <td>Novice</td>\n    </tr>\n    <tr>\n      <th>1</th>\n      <td>KSKA</td>\n      <td>L10</td>\n      <td>2</td>\n      <td>Blue</td>\n      <td>10th</td>\n    </tr>\n    <tr>\n      <th>2</th>\n      <td>KSKA</td>\n      <td>L9</td>\n      <td>3</td>\n      <td>Orange</td>\n      <td>9th</td>\n    </tr>\n    <tr>\n      <th>3</th>\n      <td>KSKA</td>\n      <td>L8</td>\n      <td>4</td>\n      <td>Red</td>\n      <td>8th</td>\n    </tr>\n    <tr>\n      <th>4</th>\n      <td>KSKA</td>\n      <td>L7</td>\n      <td>5</td>\n      <td>Yellow</td>\n      <td>7th</td>\n    </tr>\n    <tr>\n      <th>5</th>\n      <td>KSKA</td>\n      <td>L6</td>\n      <td>6</td>\n      <td>Green</td>\n      <td>6th</td>\n    </tr>\n    <tr>\n      <th>6</th>\n      <td>KSKA</td>\n      <td>L5</td>\n      <td>7</td>\n      <td>Purple</td>\n      <td>5th</td>\n    </tr>\n    <tr>\n      <th>7</th>\n      <td>KSKA</td>\n      <td>L4</td>\n      <td>8</td>\n      <td>Purple White</td>\n      <td>4th</td>\n    </tr>\n    <tr>\n      <th>8</th>\n      <td>KSKA</td>\n      <td>L3</td>\n      <td>9</td>\n      <td>Brown</td>\n      <td>3rd</td>\n    </tr>\n    <tr>\n      <th>9</th>\n      <td>KSKA</td>\n      <td>L2</td>\n      <td>10</td>\n      <td>Brown &amp; white</td>\n      <td>2nd</td>\n    </tr>\n    <tr>\n      <th>10</th>\n      <td>KSKA</td>\n      <td>L1</td>\n      <td>11</td>\n      <td>Brown &amp; 2 white</td>\n      <td>1st</td>\n    </tr>\n    <tr>\n      <th>11</th>\n      <td>KSKA</td>\n      <td>PSHO1</td>\n      <td>12</td>\n      <td>Brown &amp; 1 red</td>\n      <td>Pre Shodan 1</td>\n    </tr>\n    <tr>\n      <th>12</th>\n      <td>KSKA</td>\n      <td>PSHO2</td>\n      <td>13</td>\n      <td>Brown &amp; 2 red</td>\n      <td>Pre Shodan 2</td>\n    </tr>\n    <tr>\n      <th>13</th>\n      <td>KSKA</td>\n      <td>PSHO3</td>\n      <td>14</td>\n      <td>Brown &amp; Black</td>\n      <td>Pre Shodan 3</td>\n    </tr>\n    <tr>\n      <th>14</th>\n      <td>KSKA</td>\n      <td>SHO01</td>\n      <td>15</td>\n      <td>Black</td>\n      <td>Shodan</td>\n    </tr>\n  </tbody>\n</table>\n</div>"
     },
     "execution_count": 3,
     "metadata": {},
     "output_type": "execute_result"
    }
   ],
   "source": [
    "# Load CSV data using pandas\n",
    "excel_file = '~/Downloads/MartialartsLOCAL.xlsx'\n",
    "tab_name = 'levels'  # Replace with the actual tab name\n",
    "\n",
    "# Read the specified tab into a DataFrame\n",
    "data = pd.read_excel(excel_file, sheet_name=tab_name)\n",
    "# Convert DataFrame to list of dictionaries, ensuring consistent field names\n",
    "data"
   ]
  },
  {
   "cell_type": "code",
   "execution_count": 4,
   "outputs": [],
   "source": [
    "data_dicts = data.to_dict('records')"
   ],
   "metadata": {
    "collapsed": false,
    "ExecuteTime": {
     "end_time": "2024-01-01T21:22:59.668894Z",
     "start_time": "2024-01-01T21:22:59.660187Z"
    }
   }
  },
  {
   "cell_type": "code",
   "execution_count": 5,
   "outputs": [
    {
     "name": "stdout",
     "output_type": "stream",
     "text": [
      "Data successfully imported to Firestore!\n"
     ]
    }
   ],
   "source": [
    "# Batch write to Firestore in chunks of 499 documents to avoid exceeding limits\n",
    "def batch_write(data_chunk):\n",
    "    batch = db.batch()\n",
    "    for doc_data in data_chunk:\n",
    "        doc_ref = db.collection(\"levels\").document()  # Replace with your collection name\n",
    "        batch.set(doc_ref, doc_data)\n",
    "    batch.commit()\n",
    "\n",
    "# Iterate through data in chunks and batch write\n",
    "for i in range(0, len(data_dicts), 499):\n",
    "    batch_write(data_dicts[i:i+499])\n",
    "\n",
    "print(\"Data successfully imported to Firestore!\")"
   ],
   "metadata": {
    "collapsed": false,
    "ExecuteTime": {
     "end_time": "2024-01-01T21:23:00.871731Z",
     "start_time": "2024-01-01T21:23:00.208011Z"
    }
   }
  },
  {
   "cell_type": "code",
   "execution_count": null,
   "outputs": [],
   "source": [],
   "metadata": {
    "collapsed": false
   }
  }
 ],
 "metadata": {
  "kernelspec": {
   "display_name": "Python 3",
   "language": "python",
   "name": "python3"
  },
  "language_info": {
   "codemirror_mode": {
    "name": "ipython",
    "version": 2
   },
   "file_extension": ".py",
   "mimetype": "text/x-python",
   "name": "python",
   "nbconvert_exporter": "python",
   "pygments_lexer": "ipython2",
   "version": "2.7.6"
  }
 },
 "nbformat": 4,
 "nbformat_minor": 0
}
