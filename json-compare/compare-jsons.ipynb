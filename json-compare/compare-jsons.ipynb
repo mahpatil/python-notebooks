{
 "cells": [
  {
   "cell_type": "code",
   "execution_count": null,
   "metadata": {
    "collapsed": true
   },
   "outputs": [],
   "source": [
    "import requests\n",
    "import pandas as pd\n",
    "import os, json\n",
    "import pandas as pd\n",
    "\n",
    "%reload_ext dotenv\n",
    "%dotenv\n",
    "url1 = os.getenv('URL1', None)\n",
    "url2 = os.getenv('URL2', None)\n",
    "name_index = os.getenv('NAME_INDEX', None)\n",
    "# Read the JSON data from the URLs\n",
    "response1 = requests.get(url1)\n",
    "response2 = requests.get(url2)\n",
    "url_arr = url1.split('/')\n",
    "name1 = url_arr[name_index].split('?')[0]\n",
    "url_arr = url2.split('/')\n",
    "name2 = url_arr[name_index].split('?')[0]"
   ]
  },
  {
   "cell_type": "code",
   "execution_count": null,
   "outputs": [],
   "source": [
    "df1 = pd.read_json(response1.content.decode())\n",
    "df2 = pd.read_json(response2.content.decode())\n"
   ],
   "metadata": {
    "collapsed": false
   }
  },
  {
   "cell_type": "code",
   "execution_count": null,
   "outputs": [],
   "source": [
    "merged_df = pd.merge(df1.loc[:,['svcName','version']], df2.loc[:,['svcName','version']], on='svcName')"
   ],
   "metadata": {
    "collapsed": false
   }
  },
  {
   "cell_type": "code",
   "execution_count": null,
   "outputs": [],
   "source": [
    "merged_df['is_same'] = merged_df['version_x'] == merged_df['version_y']\n",
    "merged_diff = merged_df[merged_df['is_same'] == False]\n",
    "merged_diff.rename(columns={'version_x': \"version-{}\".format(name1), 'version_y':\"version-{}\".format(name2)})"
   ],
   "metadata": {
    "collapsed": false
   }
  },
  {
   "cell_type": "code",
   "execution_count": null,
   "outputs": [],
   "source": [
    "\n",
    "# Compare the two dataframes for differences\n",
    "differences = df1.loc[:,['svcName','version']].merge(df2.loc[:,['svcName','version']], how='outer', indicator=True)\n",
    "differences = differences[differences['_merge'] != 'both']\n",
    "\n",
    "# Print the differences\n",
    "print(differences)"
   ],
   "metadata": {
    "collapsed": false
   }
  },
  {
   "cell_type": "code",
   "execution_count": null,
   "outputs": [],
   "source": [
    "df1"
   ],
   "metadata": {
    "collapsed": false
   }
  },
  {
   "cell_type": "code",
   "execution_count": null,
   "outputs": [],
   "source": [],
   "metadata": {
    "collapsed": false
   }
  }
 ],
 "metadata": {
  "kernelspec": {
   "display_name": "Python 3",
   "language": "python",
   "name": "python3"
  },
  "language_info": {
   "codemirror_mode": {
    "name": "ipython",
    "version": 2
   },
   "file_extension": ".py",
   "mimetype": "text/x-python",
   "name": "python",
   "nbconvert_exporter": "python",
   "pygments_lexer": "ipython2",
   "version": "2.7.6"
  }
 },
 "nbformat": 4,
 "nbformat_minor": 0
}
