{
 "cells": [
  {
   "cell_type": "code",
   "execution_count": 1,
   "metadata": {
    "ExecuteTime": {
     "end_time": "2023-07-20T17:09:33.137401Z",
     "start_time": "2023-07-20T17:09:32.531521Z"
    }
   },
   "outputs": [
    {
     "ename": "OSError",
     "evalue": "out of pty devices",
     "output_type": "error",
     "traceback": [
      "\u001B[0;31m---------------------------------------------------------------------------\u001B[0m",
      "\u001B[0;31mOSError\u001B[0m                                   Traceback (most recent call last)",
      "Cell \u001B[0;32mIn[1], line 2\u001B[0m\n\u001B[1;32m      1\u001B[0m \u001B[38;5;28;01mimport\u001B[39;00m \u001B[38;5;21;01msys\u001B[39;00m\n\u001B[0;32m----> 2\u001B[0m \u001B[43mget_ipython\u001B[49m\u001B[43m(\u001B[49m\u001B[43m)\u001B[49m\u001B[38;5;241;43m.\u001B[39;49m\u001B[43msystem\u001B[49m\u001B[43m(\u001B[49m\u001B[38;5;124;43m'\u001B[39;49m\u001B[38;5;132;43;01m{sys.executable}\u001B[39;49;00m\u001B[38;5;124;43m -m pip install --upgrade pip\u001B[39;49m\u001B[38;5;124;43m'\u001B[39;49m\u001B[43m)\u001B[49m\n\u001B[1;32m      3\u001B[0m get_ipython()\u001B[38;5;241m.\u001B[39msystem(\u001B[38;5;124m'\u001B[39m\u001B[38;5;132;01m{sys.executable}\u001B[39;00m\u001B[38;5;124m -m pip install pandas\u001B[39m\u001B[38;5;124m'\u001B[39m)\n\u001B[1;32m      4\u001B[0m get_ipython()\u001B[38;5;241m.\u001B[39msystem(\u001B[38;5;124m'\u001B[39m\u001B[38;5;132;01m{sys.executable}\u001B[39;00m\u001B[38;5;124m -m pip install google.cloud\u001B[39m\u001B[38;5;124m'\u001B[39m)\n",
      "File \u001B[0;32m/Library/Python/3.9/site-packages/ipykernel/zmqshell.py:649\u001B[0m, in \u001B[0;36mZMQInteractiveShell.system_piped\u001B[0;34m(self, cmd)\u001B[0m\n\u001B[1;32m    647\u001B[0m         \u001B[38;5;28mself\u001B[39m\u001B[38;5;241m.\u001B[39muser_ns[\u001B[38;5;124m\"\u001B[39m\u001B[38;5;124m_exit_code\u001B[39m\u001B[38;5;124m\"\u001B[39m] \u001B[38;5;241m=\u001B[39m system(cmd)\n\u001B[1;32m    648\u001B[0m \u001B[38;5;28;01melse\u001B[39;00m:\n\u001B[0;32m--> 649\u001B[0m     \u001B[38;5;28mself\u001B[39m\u001B[38;5;241m.\u001B[39muser_ns[\u001B[38;5;124m\"\u001B[39m\u001B[38;5;124m_exit_code\u001B[39m\u001B[38;5;124m\"\u001B[39m] \u001B[38;5;241m=\u001B[39m \u001B[43msystem\u001B[49m\u001B[43m(\u001B[49m\u001B[38;5;28;43mself\u001B[39;49m\u001B[38;5;241;43m.\u001B[39;49m\u001B[43mvar_expand\u001B[49m\u001B[43m(\u001B[49m\u001B[43mcmd\u001B[49m\u001B[43m,\u001B[49m\u001B[43m \u001B[49m\u001B[43mdepth\u001B[49m\u001B[38;5;241;43m=\u001B[39;49m\u001B[38;5;241;43m1\u001B[39;49m\u001B[43m)\u001B[49m\u001B[43m)\u001B[49m\n",
      "File \u001B[0;32m/Library/Python/3.9/site-packages/IPython/utils/_process_posix.py:148\u001B[0m, in \u001B[0;36mProcessHandler.system\u001B[0;34m(self, cmd)\u001B[0m\n\u001B[1;32m    146\u001B[0m     child \u001B[38;5;241m=\u001B[39m pexpect\u001B[38;5;241m.\u001B[39mspawnb(\u001B[38;5;28mself\u001B[39m\u001B[38;5;241m.\u001B[39msh, args\u001B[38;5;241m=\u001B[39m[\u001B[38;5;124m'\u001B[39m\u001B[38;5;124m-c\u001B[39m\u001B[38;5;124m'\u001B[39m, cmd]) \u001B[38;5;66;03m# Pexpect-U\u001B[39;00m\n\u001B[1;32m    147\u001B[0m \u001B[38;5;28;01melse\u001B[39;00m:\n\u001B[0;32m--> 148\u001B[0m     child \u001B[38;5;241m=\u001B[39m \u001B[43mpexpect\u001B[49m\u001B[38;5;241;43m.\u001B[39;49m\u001B[43mspawn\u001B[49m\u001B[43m(\u001B[49m\u001B[38;5;28;43mself\u001B[39;49m\u001B[38;5;241;43m.\u001B[39;49m\u001B[43msh\u001B[49m\u001B[43m,\u001B[49m\u001B[43m \u001B[49m\u001B[43margs\u001B[49m\u001B[38;5;241;43m=\u001B[39;49m\u001B[43m[\u001B[49m\u001B[38;5;124;43m'\u001B[39;49m\u001B[38;5;124;43m-c\u001B[39;49m\u001B[38;5;124;43m'\u001B[39;49m\u001B[43m,\u001B[49m\u001B[43m \u001B[49m\u001B[43mcmd\u001B[49m\u001B[43m]\u001B[49m\u001B[43m)\u001B[49m  \u001B[38;5;66;03m# Vanilla Pexpect\u001B[39;00m\n\u001B[1;32m    149\u001B[0m flush \u001B[38;5;241m=\u001B[39m sys\u001B[38;5;241m.\u001B[39mstdout\u001B[38;5;241m.\u001B[39mflush\n\u001B[1;32m    150\u001B[0m \u001B[38;5;28;01mwhile\u001B[39;00m \u001B[38;5;28;01mTrue\u001B[39;00m:\n\u001B[1;32m    151\u001B[0m     \u001B[38;5;66;03m# res is the index of the pattern that caused the match, so we\u001B[39;00m\n\u001B[1;32m    152\u001B[0m     \u001B[38;5;66;03m# know whether we've finished (if we matched EOF) or not\u001B[39;00m\n",
      "File \u001B[0;32m/Library/Python/3.9/site-packages/pexpect/pty_spawn.py:205\u001B[0m, in \u001B[0;36mspawn.__init__\u001B[0;34m(self, command, args, timeout, maxread, searchwindowsize, logfile, cwd, env, ignore_sighup, echo, preexec_fn, encoding, codec_errors, dimensions, use_poll)\u001B[0m\n\u001B[1;32m    203\u001B[0m     \u001B[38;5;28mself\u001B[39m\u001B[38;5;241m.\u001B[39mname \u001B[38;5;241m=\u001B[39m \u001B[38;5;124m'\u001B[39m\u001B[38;5;124m<pexpect factory incomplete>\u001B[39m\u001B[38;5;124m'\u001B[39m\n\u001B[1;32m    204\u001B[0m \u001B[38;5;28;01melse\u001B[39;00m:\n\u001B[0;32m--> 205\u001B[0m     \u001B[38;5;28;43mself\u001B[39;49m\u001B[38;5;241;43m.\u001B[39;49m\u001B[43m_spawn\u001B[49m\u001B[43m(\u001B[49m\u001B[43mcommand\u001B[49m\u001B[43m,\u001B[49m\u001B[43m \u001B[49m\u001B[43margs\u001B[49m\u001B[43m,\u001B[49m\u001B[43m \u001B[49m\u001B[43mpreexec_fn\u001B[49m\u001B[43m,\u001B[49m\u001B[43m \u001B[49m\u001B[43mdimensions\u001B[49m\u001B[43m)\u001B[49m\n\u001B[1;32m    206\u001B[0m \u001B[38;5;28mself\u001B[39m\u001B[38;5;241m.\u001B[39muse_poll \u001B[38;5;241m=\u001B[39m use_poll\n",
      "File \u001B[0;32m/Library/Python/3.9/site-packages/pexpect/pty_spawn.py:303\u001B[0m, in \u001B[0;36mspawn._spawn\u001B[0;34m(self, command, args, preexec_fn, dimensions)\u001B[0m\n\u001B[1;32m    298\u001B[0m \u001B[38;5;28;01mif\u001B[39;00m \u001B[38;5;28mself\u001B[39m\u001B[38;5;241m.\u001B[39mencoding \u001B[38;5;129;01mis\u001B[39;00m \u001B[38;5;129;01mnot\u001B[39;00m \u001B[38;5;28;01mNone\u001B[39;00m:\n\u001B[1;32m    299\u001B[0m     \u001B[38;5;66;03m# Encode command line using the specified encoding\u001B[39;00m\n\u001B[1;32m    300\u001B[0m     \u001B[38;5;28mself\u001B[39m\u001B[38;5;241m.\u001B[39margs \u001B[38;5;241m=\u001B[39m [a \u001B[38;5;28;01mif\u001B[39;00m \u001B[38;5;28misinstance\u001B[39m(a, \u001B[38;5;28mbytes\u001B[39m) \u001B[38;5;28;01melse\u001B[39;00m a\u001B[38;5;241m.\u001B[39mencode(\u001B[38;5;28mself\u001B[39m\u001B[38;5;241m.\u001B[39mencoding)\n\u001B[1;32m    301\u001B[0m                  \u001B[38;5;28;01mfor\u001B[39;00m a \u001B[38;5;129;01min\u001B[39;00m \u001B[38;5;28mself\u001B[39m\u001B[38;5;241m.\u001B[39margs]\n\u001B[0;32m--> 303\u001B[0m \u001B[38;5;28mself\u001B[39m\u001B[38;5;241m.\u001B[39mptyproc \u001B[38;5;241m=\u001B[39m \u001B[38;5;28;43mself\u001B[39;49m\u001B[38;5;241;43m.\u001B[39;49m\u001B[43m_spawnpty\u001B[49m\u001B[43m(\u001B[49m\u001B[38;5;28;43mself\u001B[39;49m\u001B[38;5;241;43m.\u001B[39;49m\u001B[43margs\u001B[49m\u001B[43m,\u001B[49m\u001B[43m \u001B[49m\u001B[43menv\u001B[49m\u001B[38;5;241;43m=\u001B[39;49m\u001B[38;5;28;43mself\u001B[39;49m\u001B[38;5;241;43m.\u001B[39;49m\u001B[43menv\u001B[49m\u001B[43m,\u001B[49m\n\u001B[1;32m    304\u001B[0m \u001B[43m                             \u001B[49m\u001B[43mcwd\u001B[49m\u001B[38;5;241;43m=\u001B[39;49m\u001B[38;5;28;43mself\u001B[39;49m\u001B[38;5;241;43m.\u001B[39;49m\u001B[43mcwd\u001B[49m\u001B[43m,\u001B[49m\u001B[43m \u001B[49m\u001B[38;5;241;43m*\u001B[39;49m\u001B[38;5;241;43m*\u001B[39;49m\u001B[43mkwargs\u001B[49m\u001B[43m)\u001B[49m\n\u001B[1;32m    306\u001B[0m \u001B[38;5;28mself\u001B[39m\u001B[38;5;241m.\u001B[39mpid \u001B[38;5;241m=\u001B[39m \u001B[38;5;28mself\u001B[39m\u001B[38;5;241m.\u001B[39mptyproc\u001B[38;5;241m.\u001B[39mpid\n\u001B[1;32m    307\u001B[0m \u001B[38;5;28mself\u001B[39m\u001B[38;5;241m.\u001B[39mchild_fd \u001B[38;5;241m=\u001B[39m \u001B[38;5;28mself\u001B[39m\u001B[38;5;241m.\u001B[39mptyproc\u001B[38;5;241m.\u001B[39mfd\n",
      "File \u001B[0;32m/Library/Python/3.9/site-packages/pexpect/pty_spawn.py:315\u001B[0m, in \u001B[0;36mspawn._spawnpty\u001B[0;34m(self, args, **kwargs)\u001B[0m\n\u001B[1;32m    313\u001B[0m \u001B[38;5;28;01mdef\u001B[39;00m \u001B[38;5;21m_spawnpty\u001B[39m(\u001B[38;5;28mself\u001B[39m, args, \u001B[38;5;241m*\u001B[39m\u001B[38;5;241m*\u001B[39mkwargs):\n\u001B[1;32m    314\u001B[0m \u001B[38;5;250m    \u001B[39m\u001B[38;5;124;03m'''Spawn a pty and return an instance of PtyProcess.'''\u001B[39;00m\n\u001B[0;32m--> 315\u001B[0m     \u001B[38;5;28;01mreturn\u001B[39;00m \u001B[43mptyprocess\u001B[49m\u001B[38;5;241;43m.\u001B[39;49m\u001B[43mPtyProcess\u001B[49m\u001B[38;5;241;43m.\u001B[39;49m\u001B[43mspawn\u001B[49m\u001B[43m(\u001B[49m\u001B[43margs\u001B[49m\u001B[43m,\u001B[49m\u001B[43m \u001B[49m\u001B[38;5;241;43m*\u001B[39;49m\u001B[38;5;241;43m*\u001B[39;49m\u001B[43mkwargs\u001B[49m\u001B[43m)\u001B[49m\n",
      "File \u001B[0;32m/Library/Python/3.9/site-packages/ptyprocess/ptyprocess.py:230\u001B[0m, in \u001B[0;36mPtyProcess.spawn\u001B[0;34m(cls, argv, cwd, env, echo, preexec_fn, dimensions, pass_fds)\u001B[0m\n\u001B[1;32m    227\u001B[0m exec_err_pipe_read, exec_err_pipe_write \u001B[38;5;241m=\u001B[39m os\u001B[38;5;241m.\u001B[39mpipe()\n\u001B[1;32m    229\u001B[0m \u001B[38;5;28;01mif\u001B[39;00m use_native_pty_fork:\n\u001B[0;32m--> 230\u001B[0m     pid, fd \u001B[38;5;241m=\u001B[39m \u001B[43mpty\u001B[49m\u001B[38;5;241;43m.\u001B[39;49m\u001B[43mfork\u001B[49m\u001B[43m(\u001B[49m\u001B[43m)\u001B[49m\n\u001B[1;32m    231\u001B[0m \u001B[38;5;28;01melse\u001B[39;00m:\n\u001B[1;32m    232\u001B[0m     \u001B[38;5;66;03m# Use internal fork_pty, for Solaris\u001B[39;00m\n\u001B[1;32m    233\u001B[0m     pid, fd \u001B[38;5;241m=\u001B[39m _fork_pty\u001B[38;5;241m.\u001B[39mfork_pty()\n",
      "File \u001B[0;32m/Applications/Xcode.app/Contents/Developer/Library/Frameworks/Python3.framework/Versions/3.9/lib/python3.9/pty.py:97\u001B[0m, in \u001B[0;36mfork\u001B[0;34m()\u001B[0m\n\u001B[1;32m     94\u001B[0m             \u001B[38;5;28;01mpass\u001B[39;00m\n\u001B[1;32m     95\u001B[0m     \u001B[38;5;28;01mreturn\u001B[39;00m pid, fd\n\u001B[0;32m---> 97\u001B[0m master_fd, slave_fd \u001B[38;5;241m=\u001B[39m \u001B[43mopenpty\u001B[49m\u001B[43m(\u001B[49m\u001B[43m)\u001B[49m\n\u001B[1;32m     98\u001B[0m pid \u001B[38;5;241m=\u001B[39m os\u001B[38;5;241m.\u001B[39mfork()\n\u001B[1;32m     99\u001B[0m \u001B[38;5;28;01mif\u001B[39;00m pid \u001B[38;5;241m==\u001B[39m CHILD:\n\u001B[1;32m    100\u001B[0m     \u001B[38;5;66;03m# Establish a new session.\u001B[39;00m\n",
      "File \u001B[0;32m/Applications/Xcode.app/Contents/Developer/Library/Frameworks/Python3.framework/Versions/3.9/lib/python3.9/pty.py:30\u001B[0m, in \u001B[0;36mopenpty\u001B[0;34m()\u001B[0m\n\u001B[1;32m     28\u001B[0m \u001B[38;5;28;01mexcept\u001B[39;00m (\u001B[38;5;167;01mAttributeError\u001B[39;00m, \u001B[38;5;167;01mOSError\u001B[39;00m):\n\u001B[1;32m     29\u001B[0m     \u001B[38;5;28;01mpass\u001B[39;00m\n\u001B[0;32m---> 30\u001B[0m master_fd, slave_name \u001B[38;5;241m=\u001B[39m \u001B[43m_open_terminal\u001B[49m\u001B[43m(\u001B[49m\u001B[43m)\u001B[49m\n\u001B[1;32m     31\u001B[0m slave_fd \u001B[38;5;241m=\u001B[39m slave_open(slave_name)\n\u001B[1;32m     32\u001B[0m \u001B[38;5;28;01mreturn\u001B[39;00m master_fd, slave_fd\n",
      "File \u001B[0;32m/Applications/Xcode.app/Contents/Developer/Library/Frameworks/Python3.framework/Versions/3.9/lib/python3.9/pty.py:60\u001B[0m, in \u001B[0;36m_open_terminal\u001B[0;34m()\u001B[0m\n\u001B[1;32m     58\u001B[0m             \u001B[38;5;28;01mcontinue\u001B[39;00m\n\u001B[1;32m     59\u001B[0m         \u001B[38;5;28;01mreturn\u001B[39;00m (fd, \u001B[38;5;124m'\u001B[39m\u001B[38;5;124m/dev/tty\u001B[39m\u001B[38;5;124m'\u001B[39m \u001B[38;5;241m+\u001B[39m x \u001B[38;5;241m+\u001B[39m y)\n\u001B[0;32m---> 60\u001B[0m \u001B[38;5;28;01mraise\u001B[39;00m \u001B[38;5;167;01mOSError\u001B[39;00m(\u001B[38;5;124m'\u001B[39m\u001B[38;5;124mout of pty devices\u001B[39m\u001B[38;5;124m'\u001B[39m)\n",
      "\u001B[0;31mOSError\u001B[0m: out of pty devices"
     ]
    }
   ],
   "source": [
    "import sys\n",
    "!{sys.executable} -m pip install --upgrade pip\n",
    "!{sys.executable} -m pip install pandas\n",
    "!{sys.executable} -m pip install google.cloud\n",
    "!{sys.executable} -m pip install matplotlib\n",
    "!{sys.executable} -m pip install pandas_datareader\n",
    "!{sys.executable} -m pip install seaborn\n",
    "!{sys.executable} -m pip install import-ipynb\n",
    "!{sys.executable} -m pip install plotly\n",
    "!{sys.executable} -m pip install xlrd\n",
    "!{sys.executable} -m pip install sklearn\n",
    "!{sys.executable} -m pip install openpyxl\n",
    "!{sys.executable} -m pip install boto3\n",
    "!{sys.executable} -m pip install python-dotenv\n",
    "\n",
    "#!{sys.executable} -m pip uninstall pandas_datareader"
   ]
  },
  {
   "cell_type": "code",
   "execution_count": null,
   "outputs": [],
   "source": [],
   "metadata": {
    "collapsed": false
   }
  },
  {
   "cell_type": "code",
   "execution_count": 4,
   "outputs": [
    {
     "name": "stdout",
     "output_type": "stream",
     "text": [
      "Defaulting to user installation because normal site-packages is not writeable\r\n",
      "Collecting nicegui\r\n",
      "  Downloading nicegui-1.3.5-py3-none-any.whl (13.0 MB)\r\n",
      "\u001B[2K     \u001B[90m━━━━━━━━━━━━━━━━━━━━━━━━━━━━━━━━━━━━━━━━\u001B[0m \u001B[32m13.0/13.0 MB\u001B[0m \u001B[31m14.4 MB/s\u001B[0m eta \u001B[36m0:00:00\u001B[0m00:01\u001B[0m00:01\u001B[0m\r\n",
      "\u001B[?25hRequirement already satisfied: Pygments<3.0.0,>=2.9.0 in /Library/Python/3.9/site-packages (from nicegui) (2.15.1)\r\n",
      "Requirement already satisfied: aiofiles<24.0.0,>=23.1.0 in /Users/maheshpatil/Library/Python/3.9/lib/python/site-packages (from nicegui) (23.1.0)\r\n",
      "Requirement already satisfied: fastapi<1.0.0,>=0.92 in /Users/maheshpatil/Library/Python/3.9/lib/python/site-packages (from nicegui) (0.95.2)\r\n",
      "Collecting fastapi-socketio<0.0.11,>=0.0.10 (from nicegui)\r\n",
      "  Downloading fastapi_socketio-0.0.10-py3-none-any.whl (7.4 kB)\r\n",
      "Requirement already satisfied: httpx<0.25.0,>=0.24.1 in /Users/maheshpatil/Library/Python/3.9/lib/python/site-packages (from nicegui) (0.24.1)\r\n",
      "Collecting itsdangerous<3.0.0,>=2.1.2 (from nicegui)\r\n",
      "  Downloading itsdangerous-2.1.2-py3-none-any.whl (15 kB)\r\n",
      "Requirement already satisfied: jinja2<4.0.0,>=3.1.2 in /Library/Python/3.9/site-packages (from nicegui) (3.1.2)\r\n",
      "Collecting markdown2<3.0.0,>=2.4.7 (from nicegui)\r\n",
      "  Downloading markdown2-2.4.9-py2.py3-none-any.whl (39 kB)\r\n",
      "Requirement already satisfied: orjson<4.0.0,>=3.8.6 in /Users/maheshpatil/Library/Python/3.9/lib/python/site-packages (from nicegui) (3.8.12)\r\n",
      "Requirement already satisfied: python-multipart<0.0.7,>=0.0.6 in /Users/maheshpatil/Library/Python/3.9/lib/python/site-packages (from nicegui) (0.0.6)\r\n",
      "Requirement already satisfied: typing-extensions>=3.10.0 in /Library/Python/3.9/site-packages (from nicegui) (4.5.0)\r\n",
      "Requirement already satisfied: uvicorn[standard]<0.23.0,>=0.22.0 in /Users/maheshpatil/Library/Python/3.9/lib/python/site-packages (from nicegui) (0.22.0)\r\n",
      "Collecting vbuild<0.9.0,>=0.8.1 (from nicegui)\r\n",
      "  Downloading vbuild-0.8.1-py2.py3-none-any.whl (22 kB)\r\n",
      "Collecting watchfiles<1.0.0,>=0.18.1 (from nicegui)\r\n",
      "  Downloading watchfiles-0.19.0-cp37-abi3-macosx_10_7_x86_64.whl (405 kB)\r\n",
      "\u001B[2K     \u001B[90m━━━━━━━━━━━━━━━━━━━━━━━━━━━━━━━━━━━━━━\u001B[0m \u001B[32m406.0/406.0 kB\u001B[0m \u001B[31m11.8 MB/s\u001B[0m eta \u001B[36m0:00:00\u001B[0m\r\n",
      "\u001B[?25hRequirement already satisfied: pydantic!=1.7,!=1.7.1,!=1.7.2,!=1.7.3,!=1.8,!=1.8.1,<2.0.0,>=1.6.2 in /Users/maheshpatil/Library/Python/3.9/lib/python/site-packages (from fastapi<1.0.0,>=0.92->nicegui) (1.10.7)\r\n",
      "Requirement already satisfied: starlette<0.28.0,>=0.27.0 in /Users/maheshpatil/Library/Python/3.9/lib/python/site-packages (from fastapi<1.0.0,>=0.92->nicegui) (0.27.0)\r\n",
      "Collecting python-socketio>=4.6.0 (from fastapi-socketio<0.0.11,>=0.0.10->nicegui)\r\n",
      "  Downloading python_socketio-5.8.0-py3-none-any.whl (56 kB)\r\n",
      "\u001B[2K     \u001B[90m━━━━━━━━━━━━━━━━━━━━━━━━━━━━━━━━━━━━━━━━\u001B[0m \u001B[32m57.0/57.0 kB\u001B[0m \u001B[31m1.9 MB/s\u001B[0m eta \u001B[36m0:00:00\u001B[0m\r\n",
      "\u001B[?25hRequirement already satisfied: certifi in /Users/maheshpatil/Library/Python/3.9/lib/python/site-packages (from httpx<0.25.0,>=0.24.1->nicegui) (2023.5.7)\r\n",
      "Requirement already satisfied: httpcore<0.18.0,>=0.15.0 in /Users/maheshpatil/Library/Python/3.9/lib/python/site-packages (from httpx<0.25.0,>=0.24.1->nicegui) (0.17.2)\r\n",
      "Requirement already satisfied: idna in /Library/Python/3.9/site-packages (from httpx<0.25.0,>=0.24.1->nicegui) (3.4)\r\n",
      "Requirement already satisfied: sniffio in /Library/Python/3.9/site-packages (from httpx<0.25.0,>=0.24.1->nicegui) (1.3.0)\r\n",
      "Requirement already satisfied: MarkupSafe>=2.0 in /Library/Python/3.9/site-packages (from jinja2<4.0.0,>=3.1.2->nicegui) (2.1.2)\r\n",
      "Requirement already satisfied: click>=7.0 in /Users/maheshpatil/Library/Python/3.9/lib/python/site-packages (from uvicorn[standard]<0.23.0,>=0.22.0->nicegui) (8.1.3)\r\n",
      "Requirement already satisfied: h11>=0.8 in /Users/maheshpatil/Library/Python/3.9/lib/python/site-packages (from uvicorn[standard]<0.23.0,>=0.22.0->nicegui) (0.14.0)\r\n",
      "Collecting httptools>=0.5.0 (from uvicorn[standard]<0.23.0,>=0.22.0->nicegui)\r\n",
      "  Downloading httptools-0.6.0-cp39-cp39-macosx_10_9_x86_64.whl (166 kB)\r\n",
      "\u001B[2K     \u001B[90m━━━━━━━━━━━━━━━━━━━━━━━━━━━━━━━━━━━━━━━\u001B[0m \u001B[32m166.5/166.5 kB\u001B[0m \u001B[31m7.0 MB/s\u001B[0m eta \u001B[36m0:00:00\u001B[0m\r\n",
      "\u001B[?25hRequirement already satisfied: python-dotenv>=0.13 in /Users/maheshpatil/Library/Python/3.9/lib/python/site-packages (from uvicorn[standard]<0.23.0,>=0.22.0->nicegui) (1.0.0)\r\n",
      "Requirement already satisfied: pyyaml>=5.1 in /Library/Python/3.9/site-packages (from uvicorn[standard]<0.23.0,>=0.22.0->nicegui) (6.0)\r\n",
      "Collecting uvloop!=0.15.0,!=0.15.1,>=0.14.0 (from uvicorn[standard]<0.23.0,>=0.22.0->nicegui)\r\n",
      "  Downloading uvloop-0.17.0-cp39-cp39-macosx_10_9_x86_64.whl (1.5 MB)\r\n",
      "\u001B[2K     \u001B[90m━━━━━━━━━━━━━━━━━━━━━━━━━━━━━━━━━━━━━━━━\u001B[0m \u001B[32m1.5/1.5 MB\u001B[0m \u001B[31m13.3 MB/s\u001B[0m eta \u001B[36m0:00:00\u001B[0m00:01\u001B[0m00:01\u001B[0m\r\n",
      "\u001B[?25hRequirement already satisfied: websockets>=10.4 in /Users/maheshpatil/Library/Python/3.9/lib/python/site-packages (from uvicorn[standard]<0.23.0,>=0.22.0->nicegui) (11.0.3)\r\n",
      "Collecting pscript<0.8.0,>=0.7.0 (from vbuild<0.9.0,>=0.8.1->nicegui)\r\n",
      "  Downloading pscript-0.7.7-py3-none-any.whl (126 kB)\r\n",
      "\u001B[2K     \u001B[90m━━━━━━━━━━━━━━━━━━━━━━━━━━━━━━━━━━━━━━━\u001B[0m \u001B[32m126.7/126.7 kB\u001B[0m \u001B[31m5.0 MB/s\u001B[0m eta \u001B[36m0:00:00\u001B[0m\r\n",
      "\u001B[?25hRequirement already satisfied: anyio>=3.0.0 in /Library/Python/3.9/site-packages (from watchfiles<1.0.0,>=0.18.1->nicegui) (3.6.2)\r\n",
      "Collecting bidict>=0.21.0 (from python-socketio>=4.6.0->fastapi-socketio<0.0.11,>=0.0.10->nicegui)\r\n",
      "  Downloading bidict-0.22.1-py3-none-any.whl (35 kB)\r\n",
      "Collecting python-engineio>=4.3.0 (from python-socketio>=4.6.0->fastapi-socketio<0.0.11,>=0.0.10->nicegui)\r\n",
      "  Downloading python_engineio-4.5.1-py3-none-any.whl (53 kB)\r\n",
      "\u001B[2K     \u001B[90m━━━━━━━━━━━━━━━━━━━━━━━━━━━━━━━━━━━━━━━━\u001B[0m \u001B[32m53.5/53.5 kB\u001B[0m \u001B[31m2.0 MB/s\u001B[0m eta \u001B[36m0:00:00\u001B[0m\r\n",
      "\u001B[?25hInstalling collected packages: pscript, vbuild, uvloop, python-engineio, markdown2, itsdangerous, httptools, bidict, watchfiles, python-socketio, fastapi-socketio, nicegui\r\n",
      "\u001B[33m  WARNING: The script markdown2 is installed in '/Users/maheshpatil/Library/Python/3.9/bin' which is not on PATH.\r\n",
      "  Consider adding this directory to PATH or, if you prefer to suppress this warning, use --no-warn-script-location.\u001B[0m\u001B[33m\r\n",
      "\u001B[0m\u001B[33m  WARNING: The script watchfiles is installed in '/Users/maheshpatil/Library/Python/3.9/bin' which is not on PATH.\r\n",
      "  Consider adding this directory to PATH or, if you prefer to suppress this warning, use --no-warn-script-location.\u001B[0m\u001B[33m\r\n",
      "\u001B[0mSuccessfully installed bidict-0.22.1 fastapi-socketio-0.0.10 httptools-0.6.0 itsdangerous-2.1.2 markdown2-2.4.9 nicegui-1.3.5 pscript-0.7.7 python-engineio-4.5.1 python-socketio-5.8.0 uvloop-0.17.0 vbuild-0.8.1 watchfiles-0.19.0\r\n",
      "\r\n",
      "\u001B[1m[\u001B[0m\u001B[34;49mnotice\u001B[0m\u001B[1;39;49m]\u001B[0m\u001B[39;49m A new release of pip is available: \u001B[0m\u001B[31;49m23.1.2\u001B[0m\u001B[39;49m -> \u001B[0m\u001B[32;49m23.2\u001B[0m\r\n",
      "\u001B[1m[\u001B[0m\u001B[34;49mnotice\u001B[0m\u001B[1;39;49m]\u001B[0m\u001B[39;49m To update, run: \u001B[0m\u001B[32;49m/Applications/Xcode.app/Contents/Developer/usr/bin/python3 -m pip install --upgrade pip\u001B[0m\r\n"
     ]
    }
   ],
   "source": [
    "!{sys.executable} -m pip install nicegui\n"
   ],
   "metadata": {
    "collapsed": false,
    "ExecuteTime": {
     "end_time": "2023-07-20T17:11:51.628030Z",
     "start_time": "2023-07-20T17:11:43.806987Z"
    }
   }
  },
  {
   "cell_type": "code",
   "execution_count": null,
   "metadata": {},
   "outputs": [],
   "source": [
    "!{sys.executable} -m pip install ipynb\n",
    "!{sys.executable} -m pip install nbimporter\n",
    "!{sys.executable} -m pip install import-ipynb\n",
    "!{sys.executable} -m pip install nbformat"
   ]
  },
  {
   "cell_type": "code",
   "execution_count": null,
   "metadata": {},
   "outputs": [],
   "source": []
  },
  {
   "cell_type": "code",
   "execution_count": null,
   "metadata": {},
   "outputs": [],
   "source": [
    "!{sys.executable} -m pip install selenium xlwt\n"
   ]
  },
  {
   "cell_type": "code",
   "execution_count": null,
   "metadata": {},
   "outputs": [],
   "source": [
    "## resume screener\n",
    "!{sys.executable} -m pip install pdfminer.six\n",
    "!{sys.executable} -m pip install docx2txt\n",
    "!{sys.executable} -m pip install nltk\n",
    "!{sys.executable} -m pip install numpy # (also required by nltk, for running the following code)"
   ]
  },
  {
   "cell_type": "code",
   "execution_count": null,
   "metadata": {},
   "outputs": [],
   "source": [
    "!{sys.executable} -m pip install selenium xlwt\n",
    "\n",
    "## resume screener\n",
    "!{sys.executable} -m pip install pdfminer.six\n",
    "!{sys.executable} -m pip install docx2txt\n",
    "!{sys.executable} -m pip install nltk\n",
    "!{sys.executable} -m pip install numpy # (also required by nltk, for running the following code)\n"
   ]
  },
  {
   "cell_type": "markdown",
   "metadata": {},
   "source": []
  },
  {
   "cell_type": "code",
   "execution_count": null,
   "metadata": {},
   "outputs": [],
   "source": [
    "!{sys.executable} -m pip install atlassian-python-api\n",
    "!{sys.executable} -m pip install xlsxwriter\n",
    "!{sys.executable} -m pip install msal\n"
   ]
  },
  {
   "cell_type": "code",
   "execution_count": null,
   "metadata": {},
   "outputs": [],
   "source": [
    "!{sys.executable} -m pip install pdftotext\n"
   ]
  },
  {
   "cell_type": "code",
   "execution_count": null,
   "metadata": {},
   "outputs": [],
   "source": [
    "!{sys.executable} -m pip install PyMuPDF\n",
    "!{sys.executable} -m pip install numpy\n",
    "!{sys.executable} -m pip install scikit-learn\n"
   ]
  },
  {
   "cell_type": "code",
   "execution_count": null,
   "outputs": [],
   "source": [
    "!{sys.executable} -m pip install tensorflow\n",
    "!{sys.executable} -m pip install tensorflow-hub\n",
    "!{sys.executable} -m pip install openai\n",
    "!{sys.executable} -m pip install gradio\n",
    "!{sys.executable} -m pip install langchain"
   ],
   "metadata": {
    "collapsed": false
   }
  },
  {
   "cell_type": "code",
   "execution_count": 3,
   "outputs": [
    {
     "name": "stdout",
     "output_type": "stream",
     "text": [
      "Defaulting to user installation because normal site-packages is not writeable\r\n",
      "Collecting google.cloud.firestore\r\n",
      "  Downloading google_cloud_firestore-2.14.0-py2.py3-none-any.whl (290 kB)\r\n",
      "\u001B[2K     \u001B[90m━━━━━━━━━━━━━━━━━━━━━━━━━━━━━━━━━━━━━\u001B[0m \u001B[32m290.2/290.2 kB\u001B[0m \u001B[31m632.7 kB/s\u001B[0m eta \u001B[36m0:00:00\u001B[0m00:01\u001B[0m00:01\u001B[0m\r\n",
      "\u001B[?25hCollecting google-api-core[grpc]!=2.0.*,!=2.1.*,!=2.10.*,!=2.2.*,!=2.3.*,!=2.4.*,!=2.5.*,!=2.6.*,!=2.7.*,!=2.8.*,!=2.9.*,<3.0.0dev,>=1.34.0 (from google.cloud.firestore)\r\n",
      "  Downloading google_api_core-2.15.0-py3-none-any.whl (121 kB)\r\n",
      "\u001B[2K     \u001B[90m━━━━━━━━━━━━━━━━━━━━━━━━━━━━━━━━━━━━━━━\u001B[0m \u001B[32m122.0/122.0 kB\u001B[0m \u001B[31m1.1 MB/s\u001B[0m eta \u001B[36m0:00:00\u001B[0ma \u001B[36m0:00:01\u001B[0m\r\n",
      "\u001B[?25hCollecting google-cloud-core<3.0.0dev,>=1.4.1 (from google.cloud.firestore)\r\n",
      "  Downloading google_cloud_core-2.4.1-py2.py3-none-any.whl (29 kB)\r\n",
      "Collecting proto-plus<2.0.0dev,>=1.22.0 (from google.cloud.firestore)\r\n",
      "  Downloading proto_plus-1.23.0-py3-none-any.whl (48 kB)\r\n",
      "\u001B[2K     \u001B[90m━━━━━━━━━━━━━━━━━━━━━━━━━━━━━━━━━━━━━━━━\u001B[0m \u001B[32m48.8/48.8 kB\u001B[0m \u001B[31m1.2 MB/s\u001B[0m eta \u001B[36m0:00:00\u001B[0ma \u001B[36m0:00:01\u001B[0m\r\n",
      "\u001B[?25hRequirement already satisfied: protobuf!=3.20.0,!=3.20.1,!=4.21.0,!=4.21.1,!=4.21.2,!=4.21.3,!=4.21.4,!=4.21.5,<5.0.0dev,>=3.19.5 in /Users/maheshpatil/Library/Python/3.9/lib/python/site-packages (from google.cloud.firestore) (4.23.1)\r\n",
      "Collecting googleapis-common-protos<2.0.dev0,>=1.56.2 (from google-api-core[grpc]!=2.0.*,!=2.1.*,!=2.10.*,!=2.2.*,!=2.3.*,!=2.4.*,!=2.5.*,!=2.6.*,!=2.7.*,!=2.8.*,!=2.9.*,<3.0.0dev,>=1.34.0->google.cloud.firestore)\r\n",
      "  Downloading googleapis_common_protos-1.62.0-py2.py3-none-any.whl (228 kB)\r\n",
      "\u001B[2K     \u001B[90m━━━━━━━━━━━━━━━━━━━━━━━━━━━━━━━━━━━━━━━\u001B[0m \u001B[32m228.7/228.7 kB\u001B[0m \u001B[31m1.5 MB/s\u001B[0m eta \u001B[36m0:00:00\u001B[0m00:01\u001B[0m00:01\u001B[0m\r\n",
      "\u001B[?25hRequirement already satisfied: google-auth<3.0.dev0,>=2.14.1 in /Users/maheshpatil/Library/Python/3.9/lib/python/site-packages (from google-api-core[grpc]!=2.0.*,!=2.1.*,!=2.10.*,!=2.2.*,!=2.3.*,!=2.4.*,!=2.5.*,!=2.6.*,!=2.7.*,!=2.8.*,!=2.9.*,<3.0.0dev,>=1.34.0->google.cloud.firestore) (2.18.1)\r\n",
      "Requirement already satisfied: requests<3.0.0.dev0,>=2.18.0 in /Users/maheshpatil/Library/Python/3.9/lib/python/site-packages (from google-api-core[grpc]!=2.0.*,!=2.1.*,!=2.10.*,!=2.2.*,!=2.3.*,!=2.4.*,!=2.5.*,!=2.6.*,!=2.7.*,!=2.8.*,!=2.9.*,<3.0.0dev,>=1.34.0->google.cloud.firestore) (2.31.0)\r\n",
      "Requirement already satisfied: grpcio<2.0dev,>=1.33.2 in /Users/maheshpatil/Library/Python/3.9/lib/python/site-packages (from google-api-core[grpc]!=2.0.*,!=2.1.*,!=2.10.*,!=2.2.*,!=2.3.*,!=2.4.*,!=2.5.*,!=2.6.*,!=2.7.*,!=2.8.*,!=2.9.*,<3.0.0dev,>=1.34.0->google.cloud.firestore) (1.55.0)\r\n",
      "Collecting grpcio-status<2.0.dev0,>=1.33.2 (from google-api-core[grpc]!=2.0.*,!=2.1.*,!=2.10.*,!=2.2.*,!=2.3.*,!=2.4.*,!=2.5.*,!=2.6.*,!=2.7.*,!=2.8.*,!=2.9.*,<3.0.0dev,>=1.34.0->google.cloud.firestore)\r\n",
      "  Downloading grpcio_status-1.60.0-py3-none-any.whl (14 kB)\r\n",
      "Requirement already satisfied: cachetools<6.0,>=2.0.0 in /Users/maheshpatil/Library/Python/3.9/lib/python/site-packages (from google-auth<3.0.dev0,>=2.14.1->google-api-core[grpc]!=2.0.*,!=2.1.*,!=2.10.*,!=2.2.*,!=2.3.*,!=2.4.*,!=2.5.*,!=2.6.*,!=2.7.*,!=2.8.*,!=2.9.*,<3.0.0dev,>=1.34.0->google.cloud.firestore) (5.3.0)\r\n",
      "Requirement already satisfied: pyasn1-modules>=0.2.1 in /Users/maheshpatil/Library/Python/3.9/lib/python/site-packages (from google-auth<3.0.dev0,>=2.14.1->google-api-core[grpc]!=2.0.*,!=2.1.*,!=2.10.*,!=2.2.*,!=2.3.*,!=2.4.*,!=2.5.*,!=2.6.*,!=2.7.*,!=2.8.*,!=2.9.*,<3.0.0dev,>=1.34.0->google.cloud.firestore) (0.3.0)\r\n",
      "Requirement already satisfied: six>=1.9.0 in /Applications/Xcode.app/Contents/Developer/Library/Frameworks/Python3.framework/Versions/3.9/lib/python3.9/site-packages (from google-auth<3.0.dev0,>=2.14.1->google-api-core[grpc]!=2.0.*,!=2.1.*,!=2.10.*,!=2.2.*,!=2.3.*,!=2.4.*,!=2.5.*,!=2.6.*,!=2.7.*,!=2.8.*,!=2.9.*,<3.0.0dev,>=1.34.0->google.cloud.firestore) (1.15.0)\r\n",
      "Requirement already satisfied: urllib3<2.0 in /Users/maheshpatil/Library/Python/3.9/lib/python/site-packages (from google-auth<3.0.dev0,>=2.14.1->google-api-core[grpc]!=2.0.*,!=2.1.*,!=2.10.*,!=2.2.*,!=2.3.*,!=2.4.*,!=2.5.*,!=2.6.*,!=2.7.*,!=2.8.*,!=2.9.*,<3.0.0dev,>=1.34.0->google.cloud.firestore) (1.26.15)\r\n",
      "Requirement already satisfied: rsa<5,>=3.1.4 in /Users/maheshpatil/Library/Python/3.9/lib/python/site-packages (from google-auth<3.0.dev0,>=2.14.1->google-api-core[grpc]!=2.0.*,!=2.1.*,!=2.10.*,!=2.2.*,!=2.3.*,!=2.4.*,!=2.5.*,!=2.6.*,!=2.7.*,!=2.8.*,!=2.9.*,<3.0.0dev,>=1.34.0->google.cloud.firestore) (4.9)\r\n",
      "Collecting grpcio<2.0dev,>=1.33.2 (from google-api-core[grpc]!=2.0.*,!=2.1.*,!=2.10.*,!=2.2.*,!=2.3.*,!=2.4.*,!=2.5.*,!=2.6.*,!=2.7.*,!=2.8.*,!=2.9.*,<3.0.0dev,>=1.34.0->google.cloud.firestore)\r\n",
      "  Downloading grpcio-1.60.0-cp39-cp39-macosx_10_10_universal2.whl (9.7 MB)\r\n",
      "\u001B[2K     \u001B[90m━━━━━━━━━━━━━━━━━━━━━━━━━━━━━━━━━━━━━━━━\u001B[0m \u001B[32m9.7/9.7 MB\u001B[0m \u001B[31m3.8 MB/s\u001B[0m eta \u001B[36m0:00:00\u001B[0m00:01\u001B[0m00:01\u001B[0m\r\n",
      "\u001B[?25hRequirement already satisfied: charset-normalizer<4,>=2 in /Users/maheshpatil/Library/Python/3.9/lib/python/site-packages (from requests<3.0.0.dev0,>=2.18.0->google-api-core[grpc]!=2.0.*,!=2.1.*,!=2.10.*,!=2.2.*,!=2.3.*,!=2.4.*,!=2.5.*,!=2.6.*,!=2.7.*,!=2.8.*,!=2.9.*,<3.0.0dev,>=1.34.0->google.cloud.firestore) (3.1.0)\r\n",
      "Requirement already satisfied: idna<4,>=2.5 in /Library/Python/3.9/site-packages (from requests<3.0.0.dev0,>=2.18.0->google-api-core[grpc]!=2.0.*,!=2.1.*,!=2.10.*,!=2.2.*,!=2.3.*,!=2.4.*,!=2.5.*,!=2.6.*,!=2.7.*,!=2.8.*,!=2.9.*,<3.0.0dev,>=1.34.0->google.cloud.firestore) (3.4)\r\n",
      "Requirement already satisfied: certifi>=2017.4.17 in /Users/maheshpatil/Library/Python/3.9/lib/python/site-packages (from requests<3.0.0.dev0,>=2.18.0->google-api-core[grpc]!=2.0.*,!=2.1.*,!=2.10.*,!=2.2.*,!=2.3.*,!=2.4.*,!=2.5.*,!=2.6.*,!=2.7.*,!=2.8.*,!=2.9.*,<3.0.0dev,>=1.34.0->google.cloud.firestore) (2023.5.7)\r\n",
      "Requirement already satisfied: pyasn1<0.6.0,>=0.4.6 in /Users/maheshpatil/Library/Python/3.9/lib/python/site-packages (from pyasn1-modules>=0.2.1->google-auth<3.0.dev0,>=2.14.1->google-api-core[grpc]!=2.0.*,!=2.1.*,!=2.10.*,!=2.2.*,!=2.3.*,!=2.4.*,!=2.5.*,!=2.6.*,!=2.7.*,!=2.8.*,!=2.9.*,<3.0.0dev,>=1.34.0->google.cloud.firestore) (0.5.0)\r\n",
      "Installing collected packages: proto-plus, grpcio, googleapis-common-protos, grpcio-status, google-api-core, google-cloud-core, google.cloud.firestore\r\n",
      "  Attempting uninstall: grpcio\r\n",
      "    Found existing installation: grpcio 1.55.0\r\n",
      "    Uninstalling grpcio-1.55.0:\r\n",
      "      Successfully uninstalled grpcio-1.55.0\r\n",
      "Successfully installed google-api-core-2.15.0 google-cloud-core-2.4.1 google.cloud.firestore-2.14.0 googleapis-common-protos-1.62.0 grpcio-1.60.0 grpcio-status-1.60.0 proto-plus-1.23.0\r\n",
      "\r\n",
      "\u001B[1m[\u001B[0m\u001B[34;49mnotice\u001B[0m\u001B[1;39;49m]\u001B[0m\u001B[39;49m A new release of pip is available: \u001B[0m\u001B[31;49m23.1.2\u001B[0m\u001B[39;49m -> \u001B[0m\u001B[32;49m23.3.2\u001B[0m\r\n",
      "\u001B[1m[\u001B[0m\u001B[34;49mnotice\u001B[0m\u001B[1;39;49m]\u001B[0m\u001B[39;49m To update, run: \u001B[0m\u001B[32;49m/Applications/Xcode.app/Contents/Developer/usr/bin/python3 -m pip install --upgrade pip\u001B[0m\r\n"
     ]
    }
   ],
   "source": [
    "!{sys.executable} -m pip install google.cloud.firestore"
   ],
   "metadata": {
    "collapsed": false,
    "ExecuteTime": {
     "end_time": "2024-01-01T21:01:43.552940Z",
     "start_time": "2024-01-01T21:01:30.670095Z"
    }
   }
  },
  {
   "cell_type": "code",
   "execution_count": 2,
   "outputs": [
    {
     "name": "stdout",
     "output_type": "stream",
     "text": [
      "Defaulting to user installation because normal site-packages is not writeable\r\n",
      "Collecting kafka-python\r\n",
      "  Downloading kafka_python-2.0.2-py2.py3-none-any.whl (246 kB)\r\n",
      "\u001B[2K     \u001B[90m━━━━━━━━━━━━━━━━━━━━━━━━━━━━━━━━━━━━━━━\u001B[0m \u001B[32m246.5/246.5 kB\u001B[0m \u001B[31m7.6 MB/s\u001B[0m eta \u001B[36m0:00:00\u001B[0m\r\n",
      "\u001B[?25hInstalling collected packages: kafka-python\r\n",
      "Successfully installed kafka-python-2.0.2\r\n",
      "\r\n",
      "\u001B[1m[\u001B[0m\u001B[34;49mnotice\u001B[0m\u001B[1;39;49m]\u001B[0m\u001B[39;49m A new release of pip is available: \u001B[0m\u001B[31;49m23.1.2\u001B[0m\u001B[39;49m -> \u001B[0m\u001B[32;49m24.0\u001B[0m\r\n",
      "\u001B[1m[\u001B[0m\u001B[34;49mnotice\u001B[0m\u001B[1;39;49m]\u001B[0m\u001B[39;49m To update, run: \u001B[0m\u001B[32;49m/Applications/Xcode.app/Contents/Developer/usr/bin/python3 -m pip install --upgrade pip\u001B[0m\r\n"
     ]
    }
   ],
   "source": [
    "!{sys.executable} -m pip install kafka-python"
   ],
   "metadata": {
    "collapsed": false,
    "ExecuteTime": {
     "end_time": "2024-02-27T22:09:20.495146Z",
     "start_time": "2024-02-27T22:09:16.430789Z"
    }
   }
  },
  {
   "cell_type": "code",
   "execution_count": null,
   "outputs": [],
   "source": [],
   "metadata": {
    "collapsed": false
   }
  }
 ],
 "metadata": {
  "interpreter": {
   "hash": "aee8b7b246df8f9039afb4144a1f6fd8d2ca17a180786b69acc140d282b71a49"
  },
  "kernelspec": {
   "name": "python3",
   "language": "python",
   "display_name": "Python 3 (ipykernel)"
  },
  "language_info": {
   "codemirror_mode": {
    "name": "ipython",
    "version": 3
   },
   "file_extension": ".py",
   "mimetype": "text/x-python",
   "name": "python",
   "nbconvert_exporter": "python",
   "pygments_lexer": "ipython3",
   "version": "3.9.12"
  }
 },
 "nbformat": 4,
 "nbformat_minor": 4
}
