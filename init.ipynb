{
 "cells": [
  {
   "cell_type": "code",
   "execution_count": null,
   "metadata": {},
   "outputs": [],
   "source": [
    "import sys\n",
    "!{sys.executable} -m pip install --upgrade pip\n",
    "!{sys.executable} -m pip install pandas\n",
    "!{sys.executable} -m pip install google.cloud\n",
    "!{sys.executable} -m pip install matplotlib\n",
    "!{sys.executable} -m pip install pandas_datareader\n",
    "!{sys.executable} -m pip install seaborn\n",
    "!{sys.executable} -m pip install import-ipynb\n",
    "!{sys.executable} -m pip install plotly\n",
    "!{sys.executable} -m pip install xlrd\n",
    "!{sys.executable} -m pip install sklearn\n",
    "!{sys.executable} -m pip install openpyxl\n",
    "!{sys.executable} -m pip install boto3\n",
    "!{sys.executable} -m pip install python-dotenv\n",
    "\n",
    "#!{sys.executable} -m pip uninstall pandas_datareader"
   ]
  },
  {
   "cell_type": "code",
   "execution_count": null,
   "metadata": {},
   "outputs": [],
   "source": [
    "!{sys.executable} -m pip install ipynb\n",
    "!{sys.executable} -m pip install nbimporter\n",
    "!{sys.executable} -m pip install import-ipynb\n",
    "!{sys.executable} -m pip install nbformat"
   ]
  },
  {
   "cell_type": "code",
   "execution_count": null,
   "metadata": {},
   "outputs": [],
   "source": []
  },
  {
   "cell_type": "code",
   "execution_count": null,
   "metadata": {},
   "outputs": [],
   "source": [
    "!{sys.executable} -m pip install selenium xlwt\n"
   ]
  },
  {
   "cell_type": "code",
   "execution_count": null,
   "metadata": {},
   "outputs": [],
   "source": [
    "## resume screener\n",
    "!{sys.executable} -m pip install pdfminer.six\n",
    "!{sys.executable} -m pip install docx2txt\n",
    "!{sys.executable} -m pip install nltk\n",
    "!{sys.executable} -m pip install numpy # (also required by nltk, for running the following code)"
   ]
  },
  {
   "cell_type": "code",
   "execution_count": null,
   "metadata": {},
   "outputs": [],
   "source": [
    "!{sys.executable} -m pip install selenium xlwt\n",
    "\n",
    "## resume screener\n",
    "!{sys.executable} -m pip install pdfminer.six\n",
    "!{sys.executable} -m pip install docx2txt\n",
    "!{sys.executable} -m pip install nltk\n",
    "!{sys.executable} -m pip install numpy # (also required by nltk, for running the following code)\n"
   ]
  },
  {
   "cell_type": "code",
   "execution_count": 2,
   "metadata": {},
   "outputs": [
    {
     "name": "stdout",
     "output_type": "stream",
     "text": [
      "Requirement already satisfied: atlassian-python-api in /usr/local/lib/python3.9/site-packages (3.12.1)\n",
      "Requirement already satisfied: six in /usr/local/lib/python3.9/site-packages (from atlassian-python-api) (1.16.0)\n",
      "Requirement already satisfied: requests in /usr/local/lib/python3.9/site-packages (from atlassian-python-api) (2.26.0)\n",
      "Requirement already satisfied: deprecated in /usr/local/lib/python3.9/site-packages (from atlassian-python-api) (1.2.12)\n",
      "Requirement already satisfied: requests-oauthlib in /usr/local/lib/python3.9/site-packages (from atlassian-python-api) (1.3.0)\n",
      "Requirement already satisfied: oauthlib in /usr/local/lib/python3.9/site-packages (from atlassian-python-api) (3.1.1)\n",
      "Requirement already satisfied: wrapt<2,>=1.10 in /usr/local/lib/python3.9/site-packages (from deprecated->atlassian-python-api) (1.12.1)\n",
      "Requirement already satisfied: idna<4,>=2.5 in /usr/local/lib/python3.9/site-packages (from requests->atlassian-python-api) (3.2)\n",
      "Requirement already satisfied: urllib3<1.27,>=1.21.1 in /usr/local/lib/python3.9/site-packages (from requests->atlassian-python-api) (1.26.6)\n",
      "Requirement already satisfied: certifi>=2017.4.17 in /usr/local/lib/python3.9/site-packages (from requests->atlassian-python-api) (2021.5.30)\n",
      "Requirement already satisfied: charset-normalizer~=2.0.0 in /usr/local/lib/python3.9/site-packages (from requests->atlassian-python-api) (2.0.3)\n",
      "Collecting xlsxwriter\n",
      "  Downloading XlsxWriter-3.0.2-py3-none-any.whl (149 kB)\n",
      "     |████████████████████████████████| 149 kB 3.2 MB/s            \n",
      "\u001b[?25hInstalling collected packages: xlsxwriter\n",
      "Successfully installed xlsxwriter-3.0.2\n"
     ]
    }
   ],
   "source": [
    "!{sys.executable} -m pip install atlassian-python-api\n",
    "!{sys.executable} -m pip install xlsxwriter\n"
   ]
  },
  {
   "cell_type": "code",
   "execution_count": 1,
   "metadata": {},
   "outputs": [
    {
     "name": "stdout",
     "output_type": "stream",
     "text": [
      "Requirement already satisfied: boto3 in /usr/local/lib/python3.9/site-packages (1.20.19)\n",
      "Requirement already satisfied: jmespath<1.0.0,>=0.7.1 in /usr/local/lib/python3.9/site-packages (from boto3) (0.10.0)\n",
      "Requirement already satisfied: s3transfer<0.6.0,>=0.5.0 in /usr/local/lib/python3.9/site-packages (from boto3) (0.5.0)\n",
      "Requirement already satisfied: botocore<1.24.0,>=1.23.19 in /usr/local/lib/python3.9/site-packages (from boto3) (1.23.19)\n",
      "Requirement already satisfied: python-dateutil<3.0.0,>=2.1 in /Users/mahesh.patil/Library/Python/3.9/lib/python/site-packages (from botocore<1.24.0,>=1.23.19->boto3) (2.8.2)\n",
      "Requirement already satisfied: urllib3<1.27,>=1.25.4 in /usr/local/lib/python3.9/site-packages (from botocore<1.24.0,>=1.23.19->boto3) (1.26.6)\n",
      "Requirement already satisfied: six>=1.5 in /usr/local/lib/python3.9/site-packages (from python-dateutil<3.0.0,>=2.1->botocore<1.24.0,>=1.23.19->boto3) (1.16.0)\n",
      "Collecting python-dotenv\n",
      "  Downloading python_dotenv-0.19.2-py2.py3-none-any.whl (17 kB)\n",
      "Installing collected packages: python-dotenv\n",
      "\u001b[33m  WARNING: The script dotenv is installed in '/usr/local/opt/python@3.9/Frameworks/Python.framework/Versions/3.9/bin' which is not on PATH.\n",
      "  Consider adding this directory to PATH or, if you prefer to suppress this warning, use --no-warn-script-location.\u001b[0m\n",
      "Successfully installed python-dotenv-0.19.2\n"
     ]
    }
   ],
   "source": []
  },
  {
   "cell_type": "code",
   "execution_count": null,
   "metadata": {},
   "outputs": [],
   "source": []
  }
 ],
 "metadata": {
  "interpreter": {
   "hash": "aee8b7b246df8f9039afb4144a1f6fd8d2ca17a180786b69acc140d282b71a49"
  },
  "kernelspec": {
   "display_name": "Python 3.9.6 64-bit",
   "name": "python3"
  },
  "language_info": {
   "codemirror_mode": {
    "name": "ipython",
    "version": 3
   },
   "file_extension": ".py",
   "mimetype": "text/x-python",
   "name": "python",
   "nbconvert_exporter": "python",
   "pygments_lexer": "ipython3",
   "version": "3.9.10"
  }
 },
 "nbformat": 4,
 "nbformat_minor": 4
}
