{
 "cells": [
  {
   "cell_type": "code",
   "execution_count": null,
   "metadata": {},
   "outputs": [],
   "source": [
    "from atlassian import Jira\n",
    "import os, json\n",
    "\n",
    "username = os.getenv('ATLASSIAN_USER', None)\n",
    "password = os.getenv('ATLASSIAN_PASS', None)\n",
    "url = os.getenv('ATLASSIAN_URL', None)"
   ]
  },
  {
   "cell_type": "code",
   "execution_count": null,
   "metadata": {},
   "outputs": [],
   "source": [
    "class JiraHelper:\n",
    "\n",
    "    def __init__(self, url, username, password):\n",
    "        self.jira = Jira(\n",
    "            url=url,\n",
    "            username = username,\n",
    "            password = password)\n",
    "\n",
    "    def get_projects(self):\n",
    "        return self.jira.projects(included_archived=None)\n",
    "\n",
    "    def get_issue(self, key):\n",
    "        return self.jira.issue(key)\n",
    "    def jira(self):\n",
    "        return self.jira\n",
    "\n",
    "\n",
    "j = JiraHelper(url, username, password)\n",
    "\n",
    "issue_key = 'XXX-73'    \n",
    "\n",
    "issue = j.get_issue(issue_key)\n",
    "print(issue)"
   ]
  },
  {
   "cell_type": "code",
   "execution_count": null,
   "metadata": {},
   "outputs": [],
   "source": []
  }
 ],
 "metadata": {
  "interpreter": {
   "hash": "aee8b7b246df8f9039afb4144a1f6fd8d2ca17a180786b69acc140d282b71a49"
  },
  "kernelspec": {
   "display_name": "Python 3.9.7 64-bit",
   "language": "python",
   "name": "python3"
  },
  "language_info": {
   "codemirror_mode": {
    "name": "ipython",
    "version": 3
   },
   "file_extension": ".py",
   "mimetype": "text/x-python",
   "name": "python",
   "nbconvert_exporter": "python",
   "pygments_lexer": "ipython3",
   "version": "3.9.7"
  },
  "orig_nbformat": 4
 },
 "nbformat": 4,
 "nbformat_minor": 2
}
