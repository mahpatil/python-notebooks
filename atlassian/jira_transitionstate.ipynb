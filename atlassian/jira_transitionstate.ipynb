{
 "cells": [
  {
   "cell_type": "code",
   "execution_count": null,
   "metadata": {},
   "outputs": [],
   "source": [
    "from atlassian import Jira\n",
    "import os, json\n",
    "\n",
    "username = os.getenv('ATLASSIAN_USER', None)\n",
    "password = os.getenv('ATLASSIAN_PASS', None)\n",
    "url = os.getenv('ATLASSIAN_URL', None)"
   ]
  },
  {
   "cell_type": "code",
   "execution_count": null,
   "metadata": {},
   "outputs": [],
   "source": [
    "\n",
    "\n",
    "class JiraHelper:\n",
    "\n",
    "    def __init__(self, url, username, password):\n",
    "        self.jira = Jira(\n",
    "            url=url,\n",
    "            username = username,\n",
    "            password = password)\n",
    "\n",
    "    def get_projects(self):\n",
    "        return self.jira.projects(included_archived=None)\n",
    "\n",
    "    def get_issue(self, key):\n",
    "        return self.jira.issue(key)\n",
    "    def jira(self):\n",
    "        return self.jira\n",
    "    def transition_issue(self, key, statuses):\n",
    "        for s in statuses:\n",
    "            self.jira.issue_transition(key, s)\n",
    "        return;\n",
    "\n",
    "j = JiraHelper(url, username, password)\n",
    "\n",
    "issue_key = 'XX2223'    \n",
    "\n",
    "issue = j.get_issue(issue_key)\n",
    "j.jira.get_issue_transitions(issue_key)\n"
   ]
  },
  {
   "cell_type": "code",
   "execution_count": null,
   "metadata": {},
   "outputs": [],
   "source": [
    "\n",
    "statuses = [\n",
    "    #\"In Analysis\",\n",
    "    #\"DOR Done\",\n",
    "    #\"In Development\",\n",
    "    \"In Code Review\",\n",
    "    \"Ready for Testing\", \n",
    "    \"In Testing\", \n",
    "    \"Testing Complete\",\n",
    "    \"\",\n",
    "    \"\"\n",
    "]\n",
    "j.transition_issue(issue_key, statuses)"
   ]
  },
  {
   "cell_type": "code",
   "execution_count": null,
   "metadata": {},
   "outputs": [],
   "source": [
    "\n",
    "feature_statuses = [\n",
    "    #\"Start Analysis\",\n",
    "    #\"In Review\",\n",
    "]\n",
    "j.transition_issue(issue_key, statuses)"
   ]
  }
 ],
 "metadata": {
  "interpreter": {
   "hash": "aee8b7b246df8f9039afb4144a1f6fd8d2ca17a180786b69acc140d282b71a49"
  },
  "kernelspec": {
   "display_name": "Python 3.9.6 64-bit",
   "name": "python3"
  },
  "language_info": {
   "codemirror_mode": {
    "name": "ipython",
    "version": 3
   },
   "file_extension": ".py",
   "mimetype": "text/x-python",
   "name": "python",
   "nbconvert_exporter": "python",
   "pygments_lexer": "ipython3",
   "version": "3.9.6"
  },
  "metadata": {
   "interpreter": {
    "hash": "aee8b7b246df8f9039afb4144a1f6fd8d2ca17a180786b69acc140d282b71a49"
   }
  },
  "orig_nbformat": 2
 },
 "nbformat": 4,
 "nbformat_minor": 2
}
