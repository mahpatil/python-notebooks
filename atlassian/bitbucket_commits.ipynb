{
 "cells": [
  {
   "cell_type": "code",
   "execution_count": null,
   "metadata": {},
   "outputs": [],
   "source": [
    "#################################################################################\n",
    "# A set of helper utilities for Bitbucket to get list of commits by individuals across repos\n",
    "# Getting started\n",
    "# 1. Setup a bitbucket application password\n",
    "# 2. Setup the environment variables within your pythong notebook, for example run below (do not enter quotes)\n",
    "# ```\n",
    "# %env BITBUCKET_USER=<your username>\n",
    "# %env BITBUCKET_PASS=<application password>\n",
    "# %env BITBUCKET_URL=https://api.bitbucket.org/\n",
    "# %env BITBUCKET_WORKSPACE=inspiredbytech\n",
    "# %env PROJECT_KEY=ABC\n",
    "# %env USER_ID={xxxx-xxxx-xxxx-xxx-xx}\n",
    "# ```\n",
    "#################################################################################\n",
    "\n",
    "from atlassian.bitbucket.cloud import Cloud\n",
    "import os, json\n",
    "import requests\n",
    "import pandas as pd\n",
    "%load_ext dotenv\n",
    "%dotenv\n",
    "username = os.getenv('BITBUCKET_USER', None)\n",
    "password = os.getenv('BITBUCKET_PASS', None)\n",
    "url = os.getenv('BITBUCKET_URL', None)\n",
    "workspace = os.getenv('BITBUCKET_WORKSPACE', None)\n",
    "project_key = os.getenv('PROJECT_KEY', None)\n",
    "user_id = os.getenv('USER_ID', None)"
   ]
  },
  {
   "cell_type": "code",
   "execution_count": null,
   "metadata": {
    "tags": []
   },
   "outputs": [],
   "source": [
    "def get_repo(repo_name):\n",
    "    url = f'https://api.bitbucket.org/2.0/repositories/{workspace}/{repo_name}'\n",
    "    rsp = requests.get(url,  headers=headers, auth=(username, password))\n",
    "    print(json.dumps(rsp.json(), sort_keys=True, indent=4)) \n",
    "\n",
    "def get_permissions(repo_name):\n",
    "    url = f'https://api.bitbucket.org/2.0/repositories/{workspace}/{repo_name}'\n",
    "    rsp = requests.get(url,  headers=headers, auth=(username, password))\n",
    "    print(json.dumps(rsp.json(), sort_keys=True, indent=4)) \n",
    "    \n",
    "def get_commits(repo_name):\n",
    "    url =  f'https://api.bitbucket.org/2.0/repositories/{workspace}/{repo_name}/commits/'\n",
    "    rsp = requests.get(url,  headers=headers, auth=(username, password))\n",
    "    #print(json.dumps(rsp.json(), sort_keys=True, indent=4)) \n",
    "    return rsp.json()"
   ]
  },
  {
   "cell_type": "code",
   "execution_count": null,
   "metadata": {},
   "outputs": [],
   "source": [
    "url = f'https://api.bitbucket.org/2.0/repositories/{workspace}/?q=project.key=\"{project_key}\"&limit=1000&pagelen=100'\n",
    "headers = {\n",
    "    'Content-Type': 'application/json',\n",
    "}\n",
    "params = (\n",
    "    ('key1', 'mykeyhere'),\n",
    ")\n",
    "\n",
    "column_names = {\n",
    "    'author': 'author.user.nickname',\n",
    "    'author2': 'author.raw',\n",
    "    'hash': 'hash',\n",
    "    'date': 'date',\n",
    "    'summary': 'summary.raw',\n",
    "    'repo_name': 'repository.name',\n",
    "    'message': 'message',\n",
    "    'summary.raw': 'summary.raw'\n",
    "}\n",
    "\n",
    "lst_colmns = list(column_names.values())\n",
    "\n",
    "print(lst_colmns)\n",
    "headers = {'content-type': 'application/json', 'Accept-Charset': 'UTF-8'}\n",
    "repos_request = requests.get(url,  headers=headers,auth=(username, password))\n",
    "\n",
    "repos_json = repos_request.json()\n",
    "df_repos = pd.DataFrame.from_dict(repos_json['values'])\n",
    "\n",
    "df_report = pd.DataFrame(columns=lst_colmns)\n",
    "df_report.set_index('hash')\n",
    "\n",
    "\"\"\"commits_json = get_commits('infra-compliance')\n",
    "df_nested_list = pd.json_normalize(commits_json, record_path =['values'])\n",
    "print(df_nested_list.size)\n",
    "print(df_nested_list.columns)\n",
    "df_nested_list\"\"\""
   ]
  },
  {
   "cell_type": "code",
   "execution_count": null,
   "metadata": {},
   "outputs": [],
   "source": [
    "\n",
    "import datetime\n",
    "for repo in df_repos['name']:\n",
    "    commits_json = get_commits(repo)\n",
    "    df = pd.DataFrame.from_dict(commits_json['values'])\n",
    "    df_nested_list = pd.json_normalize(commits_json, record_path =['values'])\n",
    "    #print(json.dumps(commits_json, sort_keys=True, indent=4))\n",
    "    if df_nested_list.size > 0 and column_names['author'] in df_nested_list.columns:\n",
    "        df_report = pd.concat([df_report, df_nested_list[lst_colmns]])\n",
    "        print(f'appending {df_nested_list[lst_colmns].size} records')\n",
    "print(df_report)\n",
    "\n",
    "df_report['date_only']=pd.to_datetime(df_report[column_names['date'] ], utc=False).dt.date\n",
    "df_report = df_report.fillna('')\n",
    "#print(df_report[[column_names['author'], column_names['repo_name'], 'date_only']])\n"
   ]
  },
  {
   "cell_type": "code",
   "execution_count": null,
   "metadata": {},
   "outputs": [],
   "source": [
    "#################################################################################\n",
    "# Excel report\n",
    "#################################################################################\n",
    "author_field = 'author'\n",
    "df_report_recent = df_report[df_report['date_only'] > ((datetime.datetime.now() - datetime.timedelta(30)).date())]\n",
    "df_groups_authorrepo = df_report_recent[\n",
    "        ['date_only', column_names[author_field] , column_names['repo_name']]\n",
    "    ].groupby(\n",
    "        ['date_only', column_names[author_field], column_names['repo_name']],\n",
    "        dropna=True\n",
    "    )\n",
    "df_groups_authorrepo = df_groups_authorrepo.sum().reset_index()\n",
    "(df_groups_authorrepo.sort_values(by=['date_only',column_names[author_field],column_names['repo_name']], ascending=False)).to_excel('export.xlsx', '2weeks')\n",
    "df_recent_commits= df_report_recent[['date_only', column_names[author_field] , column_names['repo_name'], column_names['message']]].sort_values('date_only', ascending=False)\n",
    "df_recent_commits.head(36).to_excel('export.xlsx', 'commits', engine='xlsxwriter')\n",
    "df_report[[column_names['author'],column_names['author2'], column_names['repo_name'], 'date_only']].sort_values('date_only',ascending=False).to_excel('export.xlsx', 'author_activity', engine='xlsxwriter')"
   ]
  },
  {
   "cell_type": "code",
   "execution_count": null,
   "metadata": {},
   "outputs": [],
   "source": [
    "#################################################################################\n",
    "# Graph\n",
    "#################################################################################\n",
    "\n",
    "df_report1 =df_report[df_report['date_only'] > ((datetime.datetime.now() - datetime.timedelta(30)).date())]\n",
    "df_report1['count'] = 1\n",
    "author_field = 'author2'\n",
    "\n",
    "df_groups_author = df_report1[['date_only', column_names[author_field] , 'count']].groupby(['date_only', column_names[author_field] ],dropna=True)\n",
    "df_groups_author = df_groups_author.sum().reset_index()\n",
    "#print(df_groups_author)\n",
    "import plotly.express as px\n",
    "import plotly.tools as tls\n",
    "from plotly.offline import iplot\n",
    "from plotly.offline import download_plotlyjs,init_notebook_mode,plot,iplot\n",
    "\n",
    "fig = px.line(\n",
    "        df_groups_author,\n",
    "        x='date_only', y='count', color=column_names[author_field] , width=1200, log_y=False)\n",
    "fig.show()"
   ]
  },
  {
   "cell_type": "code",
   "execution_count": null,
   "metadata": {},
   "outputs": [],
   "source": []
  }
 ],
 "metadata": {
  "interpreter": {
   "hash": "aee8b7b246df8f9039afb4144a1f6fd8d2ca17a180786b69acc140d282b71a49"
  },
  "kernelspec": {
   "display_name": "Python 3.9.6 64-bit",
   "name": "python3"
  },
  "language_info": {
   "codemirror_mode": {
    "name": "ipython",
    "version": 3
   },
   "file_extension": ".py",
   "mimetype": "text/x-python",
   "name": "python",
   "nbconvert_exporter": "python",
   "pygments_lexer": "ipython3",
   "version": "3.9.10"
  },
  "orig_nbformat": 2
 },
 "nbformat": 4,
 "nbformat_minor": 2
}
