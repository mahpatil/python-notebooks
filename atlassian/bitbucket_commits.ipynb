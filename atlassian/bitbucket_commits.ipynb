{
 "cells": [
  {
   "cell_type": "code",
   "execution_count": null,
   "metadata": {},
   "outputs": [],
   "source": [
    "#################################################################################\n",
    "# A set of helper utilities for Bitbucket, functionality supported\n",
    "# The implementation uses standard rest APIs since the python bitbucket libraries \n",
    "# dont work well with cloud version.\n",
    "#\n",
    "# Features supported:\n",
    "# 1. List all repos in a workspace + project\n",
    "# 2. Update default reviewers (this is idempotent and can be called multiple times)\n",
    "# 3. Setup branch restricitions (not idempotent and should be called ones, will fail on repeat)\n",
    "#\n",
    "# Getting started\n",
    "# 1. Setup a bitbucket application password\n",
    "# 2. Setup the environment variables within your pythong notebook, for example run below (do not enter quotes)\n",
    "# ```\n",
    "# %env BITBUCKET_USER=<your username>\n",
    "# %env BITBUCKET_PASS=<application password>\n",
    "# %env BITBUCKET_URL=https://api.bitbucket.org/\n",
    "# %env BITBUCKET_WORKSPACE=inspiredbytech\n",
    "# %env PROJECT_KEY=ABC\n",
    "# %env USER_ID={xxxx-xxxx-xxxx-xxx-xx}\n",
    "# ```\n",
    "#################################################################################\n",
    "\n",
    "from atlassian.bitbucket.cloud import Cloud\n",
    "import os, json\n",
    "import requests\n",
    "import pandas as pd\n",
    "\n",
    "\n",
    "username = os.getenv('BITBUCKET_USER', None)\n",
    "password = os.getenv('BITBUCKET_PASS', None)\n",
    "url = os.getenv('BITBUCKET_URL', None)\n",
    "workspace = os.getenv('BITBUCKET_WORKSPACE', None)\n",
    "project_key = os.getenv('PROJECT_KEY', None)\n",
    "user_id = os.getenv('USER_ID', None)"
   ]
  },
  {
   "cell_type": "code",
   "execution_count": null,
   "metadata": {
    "tags": []
   },
   "outputs": [],
   "source": [
    "headers = {\n",
    "    'Content-Type': 'application/json',\n",
    "}\n",
    "params = (\n",
    "    ('key1', 'mykeyhere'),\n",
    ")\n",
    "url = f'https://api.bitbucket.org/2.0/repositories/{workspace}/?q=project.key=\"{project_key}\"&limit=1000&pagelen=100'\n",
    "\n",
    "\n",
    "def get_repo(repo_name):\n",
    "    url = f'https://api.bitbucket.org/2.0/repositories/{workspace}/{repo_name}'\n",
    "    rsp = requests.get(url,  headers=headers, auth=(username, password))\n",
    "    print(json.dumps(rsp.json(), sort_keys=True, indent=4)) \n",
    "\n",
    "\n",
    "def get_permissions(repo_name):\n",
    "    url = f'https://api.bitbucket.org/2.0/repositories/{workspace}/{repo_name}'\n",
    "    rsp = requests.get(url,  headers=headers, auth=(username, password))\n",
    "    print(json.dumps(rsp.json(), sort_keys=True, indent=4)) "
   ]
  },
  {
   "cell_type": "code",
   "execution_count": null,
   "metadata": {},
   "outputs": [],
   "source": [
    "def get_commits(repo_name):\n",
    "    url =  f'https://api.bitbucket.org/2.0/repositories/{workspace}/{repo_name}/commits/'\n",
    "    rsp = requests.get(url,  headers=headers, auth=(username, password))\n",
    "    #print(json.dumps(rsp.json(), sort_keys=True, indent=4)) \n",
    "    return rsp.json()"
   ]
  },
  {
   "cell_type": "code",
   "execution_count": null,
   "metadata": {},
   "outputs": [],
   "source": [
    "headers = {'content-type': 'application/json', 'Accept-Charset': 'UTF-8'}\n",
    "repos_request = requests.get(url,  headers=headers,auth=(username, password))\n",
    "\n",
    "repos_json = repos_request.json()\n",
    "df_repos = pd.DataFrame.from_dict(repos_json['values'])\n",
    "\n",
    "df_report = pd.DataFrame(columns=['hash','repository.name','date', 'author.user.nickname', 'summary.raw'])\n",
    "df_report.set_index('hash')\n",
    "\n",
    "\"\"\"commits_json = get_commits('infra-compliance')\n",
    "df_nested_list = pd.json_normalize(commits_json, record_path =['values'])\n",
    "print(df_nested_list.size)\n",
    "print(df_nested_list.columns)\"\"\"\n"
   ]
  },
  {
   "cell_type": "code",
   "execution_count": null,
   "metadata": {},
   "outputs": [],
   "source": [
    "\n",
    "import datetime\n",
    "for repo in df_repos['name']:\n",
    "    commits_json = get_commits(repo)\n",
    "    df = pd.DataFrame.from_dict(commits_json['values'])\n",
    "    df_nested_list = pd.json_normalize(commits_json, record_path =['values'])\n",
    "    #print(json.dumps(commits_json, sort_keys=True, indent=4))\n",
    "    #print(df)\n",
    "    #print(df_nested_list.columns)\n",
    "    print(repo)\n",
    "    \n",
    "    if df_nested_list.size > 0 and 'author.user.nickname' in df_nested_list.columns:\n",
    "        df_report = pd.concat([df_report, df_nested_list[['hash', 'repository.name','date', 'author.user.nickname', 'summary.raw']]])\n",
    "print(df_report)\n",
    "\n",
    "df_report['date_only']=pd.to_datetime(df_report['date'], utc=False).dt.date\n"
   ]
  },
  {
   "cell_type": "code",
   "execution_count": null,
   "metadata": {},
   "outputs": [],
   "source": [
    "print((datetime.datetime.now() - datetime.timedelta(30)).date())\n",
    "df_report1 =df_report[df_report['date_only'] > ((datetime.datetime.now() - datetime.timedelta(30)).date())]\n",
    "\n",
    "df_report1['count'] = 1\n",
    "\n",
    "#df_groups = df_report.groupby(['date_only', 'author.user.nickname']).size()\n",
    "df_groups2 = df_report1.pivot_table('count', ['date_only'], 'author.user.nickname')\n",
    "print(df_groups2.fillna(0))"
   ]
  },
  {
   "cell_type": "code",
   "execution_count": null,
   "metadata": {},
   "outputs": [],
   "source": [
    "df_groups2.plot.area(figsize= (15,15))"
   ]
  },
  {
   "cell_type": "code",
   "execution_count": null,
   "metadata": {},
   "outputs": [],
   "source": [
    "print(df_groups)"
   ]
  }
 ],
 "metadata": {
  "interpreter": {
   "hash": "aee8b7b246df8f9039afb4144a1f6fd8d2ca17a180786b69acc140d282b71a49"
  },
  "kernelspec": {
   "display_name": "Python 3.9.6 64-bit",
   "name": "python3"
  },
  "language_info": {
   "codemirror_mode": {
    "name": "ipython",
    "version": 3
   },
   "file_extension": ".py",
   "mimetype": "text/x-python",
   "name": "python",
   "nbconvert_exporter": "python",
   "pygments_lexer": "ipython3",
   "version": "3.9.7"
  },
  "orig_nbformat": 2
 },
 "nbformat": 4,
 "nbformat_minor": 2
}
