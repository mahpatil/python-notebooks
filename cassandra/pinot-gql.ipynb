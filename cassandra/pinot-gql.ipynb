{
 "cells": [
  {
   "cell_type": "code",
   "execution_count": null,
   "metadata": {
    "collapsed": true
   },
   "outputs": [],
   "source": [
    "# Import necessary libraries\n",
    "import requests\n",
    "import pandas as pd\n",
    "import matplotlib.pyplot as plt\n",
    "import plotly.express as px\n",
    "import plotly.graph_objects as go\n",
    "\n",
    "# Pinot broker URL (replace with your actual Pinot broker URL)\n",
    "PINOT_BROKER_URL = \"http://localhost:8099/query/sql\"\n"
   ]
  },
  {
   "cell_type": "code",
   "execution_count": null,
   "outputs": [],
   "source": [
    "\n",
    "# Define your GQL query\n",
    "GQL_QUERY_1 = \"\"\"\n",
    "select *\n",
    "from user\n",
    "\"\"\"\n",
    "\n",
    "GQL_QUERY_2 = \"\"\"select o.org_name, count(1) as cases\n",
    "from dev1_kyccase as ca\n",
    "\tinner join dev1_organisation as o\n",
    "\t\ton ca.org_id = o.org_id\n",
    "group by o.org_name, o.org_type\"\"\"\n",
    "def execute_pinot_query(query):\n",
    "    try:\n",
    "        response = requests.post(PINOT_BROKER_URL, json={\"sql\": query, \"queryOptions\":\"useMultistageEngine=true\"})\n",
    "        response_json = response.json()\n",
    "        print(\"***** SUCCESS **** \")\n",
    "        return response_json\n",
    "    except Exception as e:\n",
    "        print(f\"Error executing Pinot query: {e}\")\n",
    "        return None\n",
    "\n",
    "def create_bar_chart(dataframe, x, y, width=1200, y_max = [0, 10, 0]):\n",
    "    fig = px.bar(df,x=x, y=y, color=y, width=width, log_y=False)\n",
    "    fig.add_trace(go.Scatter(y=y_max, x=[0, 0],mode=\"lines+markers+text\"), 1,1)\n",
    "    fig.show()\n",
    "\n",
    "if __name__ == \"__main__\":\n",
    "    # Execute the GQL query\n",
    "    result = execute_pinot_query(GQL_QUERY_1)\n",
    "\n",
    "    if result:\n",
    "        # Convert the result to a DataFrame\n",
    "        df = pd.DataFrame(result[\"resultTable\"][\"rows\"], columns=result[\"resultTable\"][\"dataSchema\"][\"columnNames\"])\n",
    "        print(df)# Create a bar chart\n",
    "        create_bar_chart(df, \"client_type\", \"cases\")\n",
    "    else:\n",
    "        print(\"Error executing Pinot query. Check your Pinot setup and query.\")\n",
    "\n",
    "    result = execute_pinot_query(GQL_QUERY_2)\n",
    "\n",
    "    if result:\n",
    "        # Convert the result to a DataFrame\n",
    "        df = pd.DataFrame(result[\"resultTable\"][\"rows\"], columns=result[\"resultTable\"][\"dataSchema\"][\"columnNames\"])\n",
    "        print(df)# Create a bar chart\n",
    "        create_bar_chart(df, \"org_name\", \"cases\")\n",
    "    else:\n",
    "        print(\"Error executing Pinot query. Check your Pinot setup and query.\")\n",
    "\n"
   ],
   "metadata": {
    "collapsed": false
   }
  },
  {
   "cell_type": "code",
   "execution_count": null,
   "outputs": [],
   "source": [
    "print(df)"
   ],
   "metadata": {
    "collapsed": false
   }
  },
  {
   "cell_type": "code",
   "execution_count": null,
   "outputs": [],
   "source": [
    "fig = px.bar(\n",
    "    df,\n",
    "    x='org_name', y='cases', color='cases', width=1200, log_y=False)\n",
    "fig.add_trace(go.Scatter(\n",
    "    y=[0, 20, 0],\n",
    "    x=[0, 0],\n",
    "    mode=\"lines+markers+text\"\n",
    "), 1,1)\n",
    "\n",
    "fig.show()"
   ],
   "metadata": {
    "collapsed": false
   }
  },
  {
   "cell_type": "code",
   "execution_count": null,
   "outputs": [],
   "source": [],
   "metadata": {
    "collapsed": false
   }
  }
 ],
 "metadata": {
  "kernelspec": {
   "display_name": "Python 3",
   "language": "python",
   "name": "python3"
  },
  "language_info": {
   "codemirror_mode": {
    "name": "ipython",
    "version": 2
   },
   "file_extension": ".py",
   "mimetype": "text/x-python",
   "name": "python",
   "nbconvert_exporter": "python",
   "pygments_lexer": "ipython2",
   "version": "2.7.6"
  }
 },
 "nbformat": 4,
 "nbformat_minor": 0
}
