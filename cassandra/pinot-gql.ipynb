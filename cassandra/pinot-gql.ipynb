{
 "cells": [
  {
   "cell_type": "code",
   "execution_count": null,
   "metadata": {
    "collapsed": true
   },
   "outputs": [],
   "source": [
    "# Import necessary libraries\n",
    "import requests\n",
    "import pandas as pd\n",
    "import matplotlib.pyplot as plt\n",
    "\n",
    "# Pinot broker URL (replace with your actual Pinot broker URL)\n",
    "PINOT_BROKER_URL = \"http://localhost:8099/query/sql\"\n"
   ]
  },
  {
   "cell_type": "code",
   "execution_count": null,
   "outputs": [],
   "source": [
    "\n",
    "# Define your GQL query\n",
    "GQL_QUERY = \"\"\"\n",
    "xxx\n",
    "\"\"\"\n",
    "\n",
    "def execute_pinot_query(query):\n",
    "    try:\n",
    "        response = requests.post(PINOT_BROKER_URL, json={\"sql\": query, \"queryOptions\":\"useMultistageEngine=true\"})\n",
    "        response_json = response.json()\n",
    "        print(\"***** SUCCESS **** \")\n",
    "        return response_json\n",
    "    except Exception as e:\n",
    "        print(f\"Error executing Pinot query: {e}\")\n",
    "        return None\n",
    "\n",
    "def create_bar_chart(dataframe):\n",
    "    plt.figure(figsize=(10, 6))\n",
    "    plt.bar(dataframe[\"client_type\"], dataframe[\"counter\"])\n",
    "    plt.xlabel(\"Dimension\")\n",
    "    plt.ylabel(\"No. of cases\")\n",
    "    plt.title(\"Cases by client type\")\n",
    "    plt.xticks(rotation=45)\n",
    "    plt.show()\n",
    "\n",
    "if __name__ == \"__main__\":\n",
    "    # Execute the GQL query\n",
    "    result = execute_pinot_query(GQL_QUERY)\n",
    "\n",
    "    if result:\n",
    "        # Convert the result to a DataFrame\n",
    "        df = pd.DataFrame(result[\"resultTable\"][\"rows\"], columns=result[\"resultTable\"][\"dataSchema\"][\"columnNames\"])\n",
    "        print(df)# Create a bar chart\n",
    "        create_bar_chart(df)\n",
    "    else:\n",
    "        print(\"Error executing Pinot query. Check your Pinot setup and query.\")\n"
   ],
   "metadata": {
    "collapsed": false
   }
  },
  {
   "cell_type": "code",
   "execution_count": null,
   "outputs": [],
   "source": [],
   "metadata": {
    "collapsed": false
   }
  }
 ],
 "metadata": {
  "kernelspec": {
   "display_name": "Python 3",
   "language": "python",
   "name": "python3"
  },
  "language_info": {
   "codemirror_mode": {
    "name": "ipython",
    "version": 2
   },
   "file_extension": ".py",
   "mimetype": "text/x-python",
   "name": "python",
   "nbconvert_exporter": "python",
   "pygments_lexer": "ipython2",
   "version": "2.7.6"
  }
 },
 "nbformat": 4,
 "nbformat_minor": 0
}
