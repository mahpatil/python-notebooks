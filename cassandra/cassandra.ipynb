{
 "cells": [
  {
   "cell_type": "code",
   "execution_count": null,
   "metadata": {
    "collapsed": true
   },
   "outputs": [],
   "source": [
    "import os, json\n",
    "import pandas as pd\n",
    "\n",
    "%reload_ext dotenv\n",
    "%dotenv\n",
    "CASS_HOST = os.getenv('CASS_HOST', None)\n",
    "CASS_USER = os.getenv('CASS_USER', None)\n",
    "CASS_PASSWORD = os.getenv('CASS_PASSWORD', None)\n"
   ]
  },
  {
   "cell_type": "code",
   "execution_count": null,
   "outputs": [],
   "source": [
    "from cassandra.cluster import Cluster\n",
    "from cassandra.auth import PlainTextAuthProvider\n",
    "\n",
    "auth_provider = PlainTextAuthProvider(username=CASS_USER, password=CASS_PASSWORD)\n",
    "cluster = Cluster([CASS_HOST], auth_provider=auth_provider)\n",
    "\n",
    "session = cluster.connect('client')\n",
    "session.set_keyspace('client')\n",
    "\n",
    "#datacenter1\n",
    "#print(session.execute(\"SELECT release_version FROM system.local\").one())\n"
   ],
   "metadata": {
    "collapsed": false
   }
  },
  {
   "cell_type": "code",
   "execution_count": null,
   "outputs": [],
   "source": [
    "##\n",
    "## LIST ALL KEYSPACES and TABLES in the keyspaces\n",
    "##\n",
    "keyspaces_result = session.execute(\"describe keyspaces\").current_rows\n",
    "keyspace_info = []\n",
    "index = 0\n",
    "for row in keyspaces_result:\n",
    "    keyspace_name = row[0]\n",
    "    tables_query = f\"DESCRIBE {keyspace_name}\"\n",
    "    tables_result = session.execute(tables_query)\n",
    "    table_names = [row[0] for row in tables_result]\n",
    "    #keyspace_info[] = table_names\n",
    "    keyspace_info.append({\"keyspace_name\": keyspace_name, \"tables\": table_names})\n",
    "\n",
    "\n",
    "pd.DataFrame(keyspace_info)\n"
   ],
   "metadata": {
    "collapsed": false
   }
  },
  {
   "cell_type": "code",
   "execution_count": null,
   "outputs": [],
   "source": [
    "query=\"select * from dev1_user.user\"\n",
    "df1 = pd.DataFrame(session.execute(query).current_rows)"
   ],
   "metadata": {
    "collapsed": false
   }
  },
  {
   "cell_type": "code",
   "execution_count": null,
   "outputs": [],
   "source": [],
   "metadata": {
    "collapsed": false
   }
  }
 ],
 "metadata": {
  "kernelspec": {
   "display_name": "Python 3",
   "language": "python",
   "name": "python3"
  },
  "language_info": {
   "codemirror_mode": {
    "name": "ipython",
    "version": 2
   },
   "file_extension": ".py",
   "mimetype": "text/x-python",
   "name": "python",
   "nbconvert_exporter": "python",
   "pygments_lexer": "ipython2",
   "version": "2.7.6"
  }
 },
 "nbformat": 4,
 "nbformat_minor": 0
}
