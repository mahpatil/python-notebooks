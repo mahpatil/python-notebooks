{
 "cells": [
  {
   "cell_type": "code",
   "execution_count": null,
   "metadata": {
    "collapsed": true
   },
   "outputs": [],
   "source": [
    "import requests\n",
    "#https://dev.to/sats268842/create-and-delete-kafka-topic-using-python-3ni\n",
    "from kafka.admin import KafkaAdminClient, NewTopic\n",
    "import os\n",
    "import requests\n",
    "\n",
    "%reload_ext dotenv\n",
    "%dotenv\n",
    "KAFKA_URL = os.getenv('KAFKA_URL', None)\n",
    "KAFKA_USER = os.getenv('KAFKA_USER', None)\n",
    "KAFKA_PASSWORD = os.getenv('KAFKA_PASSWORD', None)\n",
    "KAFKA_URL=\"10.13.65.171:9094\"\n",
    "print(KAFKA_URL)\n",
    "\n",
    "admin_client = KafkaAdminClient(bootstrap_servers=KAFKA_URL,  security_protocol='SASL_SSL', sasl_mechanism='SCRAM-SHA-512',\n",
    "sasl_plain_username=KAFKA_USER, sasl_plain_password=KAFKA_PASSWORD)\n"
   ]
  },
  {
   "cell_type": "code",
   "execution_count": null,
   "outputs": [],
   "source": [
    "topics = ['xx']"
   ],
   "metadata": {
    "collapsed": false
   }
  },
  {
   "cell_type": "code",
   "execution_count": null,
   "outputs": [],
   "source": [
    "try:\n",
    "    admin_client.delete_topics(topics=topics)\n",
    "    print(\"Topic Deleted Successfully\")\n",
    "except  Exception as e:\n",
    "    print(e)"
   ],
   "metadata": {
    "collapsed": false
   }
  },
  {
   "cell_type": "code",
   "execution_count": null,
   "outputs": [],
   "source": [
    "for table_name in topics:\n",
    "    headers = {'content-type': 'application/json',\n",
    "               'Accept-Charset': 'UTF-8'}\n",
    "               #\"Authorization\": f\"Bearer {token}\"}\n",
    "    url = f'http://localhost:9000/tables/{table_name}?type=realtime'\n",
    "    result = requests.delete(url,  headers=headers)\n",
    "    print(result)\n",
    "\n",
    "    url = f'http://localhost:9000/schemas/{table_name}'\n",
    "    result = requests.delete(url,  headers=headers)\n",
    "    print(result)"
   ],
   "metadata": {
    "collapsed": false
   }
  },
  {
   "cell_type": "code",
   "execution_count": null,
   "outputs": [],
   "source": [],
   "metadata": {
    "collapsed": false
   }
  }
 ],
 "metadata": {
  "kernelspec": {
   "display_name": "Python 3",
   "language": "python",
   "name": "python3"
  },
  "language_info": {
   "codemirror_mode": {
    "name": "ipython",
    "version": 2
   },
   "file_extension": ".py",
   "mimetype": "text/x-python",
   "name": "python",
   "nbconvert_exporter": "python",
   "pygments_lexer": "ipython2",
   "version": "2.7.6"
  }
 },
 "nbformat": 4,
 "nbformat_minor": 0
}
