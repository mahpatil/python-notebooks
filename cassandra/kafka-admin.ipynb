{
 "cells": [
  {
   "cell_type": "code",
   "execution_count": 1,
   "metadata": {
    "collapsed": true,
    "ExecuteTime": {
     "end_time": "2024-03-03T18:29:42.933234Z",
     "start_time": "2024-03-03T18:29:41.230399Z"
    }
   },
   "outputs": [
    {
     "name": "stdout",
     "output_type": "stream",
     "text": [
      "10.13.65.171:9094\n"
     ]
    }
   ],
   "source": [
    "from kafka.admin import KafkaAdminClient, NewTopic\n",
    "import os\n",
    "\n",
    "%reload_ext dotenv\n",
    "%dotenv\n",
    "KAFKA_URL = os.getenv('KAFKA_URL', None)\n",
    "KAFKA_USER = os.getenv('KAFKA_USER', None)\n",
    "KAFKA_PASSWORD = os.getenv('KAFKA_PASSWORD', None)\n",
    "KAFKA_URL=\"10.13.65.171:9094\"\n",
    "print(KAFKA_URL)\n",
    "\n",
    "admin_client = KafkaAdminClient(bootstrap_servers=KAFKA_URL,  security_protocol='SASL_SSL', sasl_mechanism='SCRAM-SHA-512',\n",
    "sasl_plain_username=KAFKA_USER, sasl_plain_password=KAFKA_PASSWORD)\n"
   ]
  },
  {
   "cell_type": "code",
   "execution_count": 4,
   "outputs": [
    {
     "name": "stdout",
     "output_type": "stream",
     "text": [
      "Topic Deleted Successfully\n"
     ]
    }
   ],
   "source": [
    "try:\n",
    "    admin_client.delete_topics(topics=['dev1_kyccase'])\n",
    "    print(\"Topic Deleted Successfully\")\n",
    "except  Exception as e:\n",
    "    print(e)"
   ],
   "metadata": {
    "collapsed": false,
    "ExecuteTime": {
     "end_time": "2024-03-03T18:31:01.236905Z",
     "start_time": "2024-03-03T18:31:01.093548Z"
    }
   }
  },
  {
   "cell_type": "code",
   "execution_count": null,
   "outputs": [],
   "source": [],
   "metadata": {
    "collapsed": false
   }
  }
 ],
 "metadata": {
  "kernelspec": {
   "display_name": "Python 3",
   "language": "python",
   "name": "python3"
  },
  "language_info": {
   "codemirror_mode": {
    "name": "ipython",
    "version": 2
   },
   "file_extension": ".py",
   "mimetype": "text/x-python",
   "name": "python",
   "nbconvert_exporter": "python",
   "pygments_lexer": "ipython2",
   "version": "2.7.6"
  }
 },
 "nbformat": 4,
 "nbformat_minor": 0
}
