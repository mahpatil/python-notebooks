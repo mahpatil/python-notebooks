{
 "cells": [
  {
   "cell_type": "code",
   "execution_count": 5,
   "metadata": {
    "collapsed": true,
    "ExecuteTime": {
     "end_time": "2024-01-01T18:57:20.488005Z",
     "start_time": "2024-01-01T18:57:19.990422Z"
    }
   },
   "outputs": [
    {
     "name": "stdout",
     "output_type": "stream",
     "text": [
      "JSON file generated successfully!\n"
     ]
    }
   ],
   "source": [
    "import pandas as pd\n",
    "import json\n",
    "\n",
    "# Specify the Excel file path and desired tab name\n",
    "excel_file = '~/Downloads/xxx.xlsx'\n",
    "tab_name = 'levels'  # Replace with the actual tab name\n",
    "\n",
    "# Read the specified tab into a DataFrame\n",
    "df = pd.read_excel(excel_file, sheet_name=tab_name)\n",
    "\n",
    "# Convert DataFrame to a list of dictionaries\n",
    "data = df.to_dict('records')\n",
    "\n",
    "# Generate JSON string\n",
    "json_string = json.dumps(data, indent=4)  # Indent for readability\n",
    "\n",
    "# Write JSON string to a file\n",
    "with open('output.json', 'w') as f:\n",
    "    f.write(json_string)\n",
    "\n",
    "print('JSON file generated successfully!')\n"
   ]
  },
  {
   "cell_type": "code",
   "execution_count": null,
   "outputs": [],
   "source": [],
   "metadata": {
    "collapsed": false
   }
  }
 ],
 "metadata": {
  "kernelspec": {
   "display_name": "Python 3",
   "language": "python",
   "name": "python3"
  },
  "language_info": {
   "codemirror_mode": {
    "name": "ipython",
    "version": 2
   },
   "file_extension": ".py",
   "mimetype": "text/x-python",
   "name": "python",
   "nbconvert_exporter": "python",
   "pygments_lexer": "ipython2",
   "version": "2.7.6"
  }
 },
 "nbformat": 4,
 "nbformat_minor": 0
}
