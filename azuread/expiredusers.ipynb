{
 "cells": [
  {
   "cell_type": "code",
   "execution_count": 21,
   "metadata": {},
   "outputs": [
    {
     "name": "stdout",
     "output_type": "stream",
     "text": [
      "{'token_type': 'Bearer', 'expires_in': 3599, 'ext_expires_in': 3599, 'access_token': 'eyJ0eXAiOiJKV1QiLCJub25jZSI6IlJJZi1NVi1XMGVrWktsckZsUnRZcE1xeTBUdzhHWHRYMW9PeVh2Y0hiNGsiLCJhbGciOiJSUzI1NiIsIng1dCI6ImpTMVhvMU9XRGpfNTJ2YndHTmd2UU8yVnpNYyIsImtpZCI6ImpTMVhvMU9XRGpfNTJ2YndHTmd2UU8yVnpNYyJ9.eyJhdWQiOiJodHRwczovL2dyYXBoLm1pY3Jvc29mdC5jb20iLCJpc3MiOiJodHRwczovL3N0cy53aW5kb3dzLm5ldC9jN2YxZTNjZS1iYTY2LTQwYTctOTFiZC05NTk0YjM2MjIzZmMvIiwiaWF0IjoxNjUwNDc0NTI2LCJuYmYiOjE2NTA0NzQ1MjYsImV4cCI6MTY1MDQ3ODQyNiwiYWlvIjoiRTJaZ1lHQ1ZMcGdTWlJGdXE1WHI1SzZocytjZEFBPT0iLCJhcHBfZGlzcGxheW5hbWUiOiJHcmFwaCBQeXRob24iLCJhcHBpZCI6ImIzNWFlMTc3LWFlMmEtNGRhOS05MDU2LTdiZWMxNjk1Mzk5MiIsImFwcGlkYWNyIjoiMSIsImlkcCI6Imh0dHBzOi8vc3RzLndpbmRvd3MubmV0L2M3ZjFlM2NlLWJhNjYtNDBhNy05MWJkLTk1OTRiMzYyMjNmYy8iLCJpZHR5cCI6ImFwcCIsIm9pZCI6IjE1YTkyYWEwLWIwZjYtNDcyYy05N2ViLWM4ZDVmMTU3NTdmOSIsInJoIjoiMC5BWG9BenVQeHgyYTZwMENSdlpXVXMySWpfQU1BQUFBQUFBQUF3QUFBQUFBQUFBQjZBQUEuIiwicm9sZXMiOlsiRGlyZWN0b3J5LlJlYWQuQWxsIiwiVXNlci5SZWFkLkFsbCIsIkF1ZGl0TG9nLlJlYWQuQWxsIl0sInN1YiI6IjE1YTkyYWEwLWIwZjYtNDcyYy05N2ViLWM4ZDVmMTU3NTdmOSIsInRlbmFudF9yZWdpb25fc2NvcGUiOiJFVSIsInRpZCI6ImM3ZjFlM2NlLWJhNjYtNDBhNy05MWJkLTk1OTRiMzYyMjNmYyIsInV0aSI6IjZmeGozejNCb1VlcHZwUHFvVmhSQUEiLCJ2ZXIiOiIxLjAiLCJ3aWRzIjpbIjA5OTdhMWQwLTBkMWQtNGFjYi1iNDA4LWQ1Y2E3MzEyMWU5MCJdLCJ4bXNfdGNkdCI6MTU3MDc4OTAzNn0.KKlGjVQmUw13tACQ1_FUMASXAFP-_q1D6JI4jQGoDTWGG80P1eLEV2E74ZtsBbneYkJ12Z5ShgSApvtbw-XL20s3nNF5b5ya-mVCIlNwv6gqH-mzi-bds8qMDJQJL328Obq7w-CLsLHjqLb6IfUE4g36hVUZv1l8mUjU8f8pBVFjY5eT7Z56c9LOie6B7coMOkl3IGVkE_CwQrCwhaHx7r9-ejS0cytlOQ6zmJSZRV2T_TJUlZ04fFOAwEYVKDFlwbbiwF4MyV3Rwt797jnrtZe_M6aGjEY6xqrVX9JLlfYPsbI7y5xrjdTkrxGxL07_otvjJgDwLKJLgOWebQ6MMQ'}\n"
     ]
    }
   ],
   "source": [
    "import json\n",
    "import logging\n",
    "import requests\n",
    "import msal\n",
    "import pandas as pd\n",
    "config = json.load(open('.env'))\n",
    "\n",
    "app = msal.ConfidentialClientApplication(\n",
    "    config[\"client_id\"], authority=config[\"authority\"],\n",
    "    client_credential=config[\"secret\"],\n",
    "    )\n",
    "result = None\n",
    "result = app.acquire_token_silent(config[\"scope\"], account=None)\n",
    "\n",
    "if not result:\n",
    "    logging.info(\"No suitable token exists in cache. Let's get a new one from AAD.\")\n",
    "    result = app.acquire_token_for_client(scopes=config[\"scope\"])\n",
    "print(result)"
   ]
  },
  {
   "cell_type": "code",
   "execution_count": 27,
   "metadata": {},
   "outputs": [],
   "source": [
    "url = \"https://graph.microsoft.com/beta/users?filter=signInActivity/lastSignInDateTime le 2021-01-01T00:00:00Z\"\n",
    "res_inactiveacct = requests.get(\n",
    "        url,\n",
    "        headers={'Authorization': 'Bearer ' + result['access_token']}, ).json()\n",
    "df_inactiveacct = pd.DataFrame.from_dict(res_inactiveacct['value'])\n"
   ]
  },
  {
   "cell_type": "code",
   "execution_count": 33,
   "metadata": {},
   "outputs": [
    {
     "data": {
      "text/html": [
       "<div>\n",
       "<style scoped>\n",
       "    .dataframe tbody tr th:only-of-type {\n",
       "        vertical-align: middle;\n",
       "    }\n",
       "\n",
       "    .dataframe tbody tr th {\n",
       "        vertical-align: top;\n",
       "    }\n",
       "\n",
       "    .dataframe thead th {\n",
       "        text-align: right;\n",
       "    }\n",
       "</style>\n",
       "<table border=\"1\" class=\"dataframe\">\n",
       "  <thead>\n",
       "    <tr style=\"text-align: right;\">\n",
       "      <th></th>\n",
       "      <th>id</th>\n",
       "      <th>givenName</th>\n",
       "      <th>displayName</th>\n",
       "      <th>userPrincipalName</th>\n",
       "      <th>signInSessionsValidFromDateTime</th>\n",
       "    </tr>\n",
       "  </thead>\n",
       "  <tbody>\n",
       "    <tr>\n",
       "      <th>0</th>\n",
       "      <td>6ed2cd3d-7965-4dc2-b34c-8c59ebb89b65</td>\n",
       "      <td>Quin</td>\n",
       "      <td>Quin</td>\n",
       "      <td>quin@dltapps.co.uk</td>\n",
       "      <td>2020-04-26T07:06:40Z</td>\n",
       "    </tr>\n",
       "    <tr>\n",
       "      <th>1</th>\n",
       "      <td>c98da27a-cd17-4d5b-911a-b81c3a268b85</td>\n",
       "      <td>Mona</td>\n",
       "      <td>Mona Reyes</td>\n",
       "      <td>mona.reyes@dltapps.co.uk</td>\n",
       "      <td>2020-08-21T15:48:04Z</td>\n",
       "    </tr>\n",
       "  </tbody>\n",
       "</table>\n",
       "</div>"
      ],
      "text/plain": [
       "                                     id givenName displayName  \\\n",
       "0  6ed2cd3d-7965-4dc2-b34c-8c59ebb89b65      Quin        Quin   \n",
       "1  c98da27a-cd17-4d5b-911a-b81c3a268b85      Mona  Mona Reyes   \n",
       "\n",
       "          userPrincipalName signInSessionsValidFromDateTime  \n",
       "0        quin@dltapps.co.uk            2020-04-26T07:06:40Z  \n",
       "1  mona.reyes@dltapps.co.uk            2020-08-21T15:48:04Z  "
      ]
     },
     "execution_count": 33,
     "metadata": {},
     "output_type": "execute_result"
    }
   ],
   "source": [
    "df_inactiveacct[['id', 'givenName', 'displayName', 'userPrincipalName', 'signInSessionsValidFromDateTime']]"
   ]
  },
  {
   "cell_type": "code",
   "execution_count": 34,
   "metadata": {},
   "outputs": [
    {
     "data": {
      "text/plain": [
       "Index(['id', 'deletedDateTime', 'accountEnabled', 'ageGroup', 'businessPhones',\n",
       "       'city', 'createdDateTime', 'creationType', 'companyName',\n",
       "       'consentProvidedForMinor', 'country', 'department', 'displayName',\n",
       "       'employeeId', 'employeeHireDate', 'employeeType', 'faxNumber',\n",
       "       'givenName', 'imAddresses', 'infoCatalogs', 'isManagementRestricted',\n",
       "       'isResourceAccount', 'jobTitle', 'legalAgeGroupClassification', 'mail',\n",
       "       'mailNickname', 'mobilePhone', 'onPremisesDistinguishedName',\n",
       "       'officeLocation', 'onPremisesDomainName', 'onPremisesImmutableId',\n",
       "       'onPremisesLastSyncDateTime', 'onPremisesSecurityIdentifier',\n",
       "       'onPremisesSamAccountName', 'onPremisesSyncEnabled',\n",
       "       'onPremisesUserPrincipalName', 'otherMails', 'passwordPolicies',\n",
       "       'postalCode', 'preferredDataLocation', 'preferredLanguage',\n",
       "       'proxyAddresses', 'refreshTokensValidFromDateTime', 'showInAddressList',\n",
       "       'signInSessionsValidFromDateTime', 'state', 'streetAddress', 'surname',\n",
       "       'usageLocation', 'userPrincipalName', 'externalUserConvertedOn',\n",
       "       'externalUserState', 'externalUserStateChangeDateTime', 'userType',\n",
       "       'employeeOrgData', 'passwordProfile', 'assignedLicenses',\n",
       "       'assignedPlans', 'deviceKeys', 'identities',\n",
       "       'onPremisesExtensionAttributes', 'onPremisesProvisioningErrors',\n",
       "       'provisionedPlans'],\n",
       "      dtype='object')"
      ]
     },
     "execution_count": 34,
     "metadata": {},
     "output_type": "execute_result"
    }
   ],
   "source": [
    "df_inactiveacct.columns\n"
   ]
  },
  {
   "cell_type": "code",
   "execution_count": null,
   "metadata": {},
   "outputs": [],
   "source": []
  }
 ],
 "metadata": {
  "interpreter": {
   "hash": "aee8b7b246df8f9039afb4144a1f6fd8d2ca17a180786b69acc140d282b71a49"
  },
  "kernelspec": {
   "display_name": "Python 3.9.10 64-bit",
   "language": "python",
   "name": "python3"
  },
  "language_info": {
   "codemirror_mode": {
    "name": "ipython",
    "version": 3
   },
   "file_extension": ".py",
   "mimetype": "text/x-python",
   "name": "python",
   "nbconvert_exporter": "python",
   "pygments_lexer": "ipython3",
   "version": "3.9.10"
  },
  "orig_nbformat": 4
 },
 "nbformat": 4,
 "nbformat_minor": 2
}
