{
 "cells": [
  {
   "cell_type": "code",
   "execution_count": null,
   "metadata": {},
   "outputs": [],
   "source": [
    "import json\n",
    "import logging\n",
    "import requests\n",
    "import msal\n",
    "import pandas as pd\n",
    "config = json.load(open('.env'))\n",
    "\n",
    "app = msal.ConfidentialClientApplication(\n",
    "    config[\"client_id\"], authority=config[\"authority\"],\n",
    "    client_credential=config[\"secret\"],\n",
    "    )\n",
    "result = None\n",
    "result = app.acquire_token_silent(config[\"scope\"], account=None)\n",
    "\n",
    "if not result:\n",
    "    logging.info(\"No suitable token exists in cache. Let's get a new one from AAD.\")\n",
    "    result = app.acquire_token_for_client(scopes=config[\"scope\"])\n",
    "print(result)\n",
    "\n",
    "url = \"https://graph.microsoft.com/beta/users?filter=signInActivity/lastSignInDateTime le 2021-01-01T00:00:00Z\"\n",
    "res_inactiveacct = requests.get(\n",
    "        url,\n",
    "        headers={'Authorization': 'Bearer ' + result['access_token']}, ).json()\n",
    "df_inactiveacct = pd.DataFrame.from_dict(res_inactiveacct['value'])\n"
   ]
  },
  {
   "cell_type": "code",
   "execution_count": null,
   "metadata": {},
   "outputs": [],
   "source": [
    "df_inactiveacct[['id', 'givenName', 'displayName', 'userPrincipalName', 'signInSessionsValidFromDateTime']]"
   ]
  },
  {
   "cell_type": "code",
   "execution_count": null,
   "metadata": {},
   "outputs": [],
   "source": [
    "df_inactiveacct.columns\n"
   ]
  },
  {
   "cell_type": "code",
   "execution_count": null,
   "metadata": {},
   "outputs": [],
   "source": []
  }
 ],
 "metadata": {
  "interpreter": {
   "hash": "aee8b7b246df8f9039afb4144a1f6fd8d2ca17a180786b69acc140d282b71a49"
  },
  "kernelspec": {
   "display_name": "Python 3.9.10 64-bit",
   "language": "python",
   "name": "python3"
  },
  "language_info": {
   "codemirror_mode": {
    "name": "ipython",
    "version": 3
   },
   "file_extension": ".py",
   "mimetype": "text/x-python",
   "name": "python",
   "nbconvert_exporter": "python",
   "pygments_lexer": "ipython3",
   "version": "3.9.10"
  },
  "orig_nbformat": 4
 },
 "nbformat": 4,
 "nbformat_minor": 2
}
