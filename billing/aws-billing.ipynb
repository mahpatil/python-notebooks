{
 "cells": [
  {
   "cell_type": "code",
   "execution_count": null,
   "metadata": {},
   "outputs": [],
   "source": [
    "import boto3\n",
    "from botocore.config import Config\n",
    "\n",
    "master = boto3.session.Session(profile_name='xxx')\n",
    "cost_explorer = master.client('ce')\n",
    "#cost_explorer = master.resource('c3')"
   ]
  },
  {
   "cell_type": "code",
   "execution_count": null,
   "metadata": {},
   "outputs": [],
   "source": [
    "cost = cost_explorer.get_cost_and_usage(\n",
    "        TimePeriod={\n",
    "            'Start': '2021-01-01',\n",
    "            'End': '2021-12-31'\n",
    "        },\n",
    "        Granularity='MONTHLY',\n",
    "        Metrics=['BlendedCost'],\n",
    "        GroupBy=[\n",
    "            {\n",
    "                'Type': 'DIMENSION',\n",
    "                'Key': 'LINKED_ACCOUNT'\n",
    "            },\n",
    "        ]\n",
    "    )"
   ]
  },
  {
   "cell_type": "code",
   "execution_count": null,
   "metadata": {},
   "outputs": [],
   "source": []
  }
 ],
 "metadata": {
  "interpreter": {
   "hash": "aee8b7b246df8f9039afb4144a1f6fd8d2ca17a180786b69acc140d282b71a49"
  },
  "kernelspec": {
   "display_name": "Python 3.9.6 64-bit",
   "name": "python3"
  },
  "language_info": {
   "codemirror_mode": {
    "name": "ipython",
    "version": 3
   },
   "file_extension": ".py",
   "mimetype": "text/x-python",
   "name": "python",
   "nbconvert_exporter": "python",
   "pygments_lexer": "ipython3",
   "version": "3.9.12"
  },
  "orig_nbformat": 4
 },
 "nbformat": 4,
 "nbformat_minor": 2
}
