{
 "cells": [
  {
   "cell_type": "code",
   "execution_count": null,
   "metadata": {},
   "outputs": [],
   "source": [
    "# Note: If using billing role following policy needs to be attached\n",
    "#\n",
    "# Navigate to IAM -> Policies -> Create Policy\n",
    "# Select service as Cost Explorer Service\n",
    "# Tick [X] Read permissions\n",
    "# Click Review\n",
    "# Name it, for example MyCostExplorerRead\n",
    "#     Assign the newly created policy to your user"
   ]
  },
  {
   "cell_type": "code",
   "execution_count": null,
   "outputs": [],
   "source": [
    "import os, json\n",
    "\n",
    "%reload_ext dotenv\n",
    "%dotenv\n",
    "ACCESS_KEY = os.getenv('AWS_ACCESS_KEY_ID', None)\n",
    "SECRET_KEY = os.getenv('AWS_SECRET_ACCESS_KEY', None)\n",
    "SESSION_TOKEN = os.getenv('AWS_SESSION_TOKEN', None)\n",
    "print(ACCESS_KEY)"
   ],
   "metadata": {
    "collapsed": false
   }
  },
  {
   "cell_type": "code",
   "execution_count": null,
   "metadata": {},
   "outputs": [],
   "source": [
    "import boto3\n",
    "\n",
    "def get_aws_monthly_bill(start_date, end_date):\n",
    "    client = boto3.client('ce', region_name='eu-west-1',\n",
    "        aws_access_key_id=ACCESS_KEY,\n",
    "        aws_secret_access_key=SECRET_KEY,\n",
    "        aws_session_token=SESSION_TOKEN)  # Create a Cost Explorer client\n",
    "\n",
    "    # Define the request parameters\n",
    "    request_params = {\n",
    "        'TimePeriod': {\n",
    "            'Start': start_date,\n",
    "            'End': end_date\n",
    "        },\n",
    "        'Granularity': 'MONTHLY',\n",
    "        'Metrics': ['BlendedCost', 'UnblendedCost', 'UsageQuantity']\n",
    "    }\n",
    "\n",
    "    # Make the request to retrieve the billing data\n",
    "    response = client.get_cost_and_usage(**request_params)\n",
    "\n",
    "    # Extract the billing information for GBP currency\n",
    "    amount = response['ResultsByTime'][0]['Total']['BlendedCost']['Amount']\n",
    "    unit = response['ResultsByTime'][0]['Total']['BlendedCost']['Unit']\n",
    "    usage_quantity = response['ResultsByTime'][0]['Total']['UsageQuantity']['Amount']\n",
    "    print(json.dumps(response, indent=4))\n",
    "\n",
    "    return f\"The AWS bill for {start_date} to {end_date} is {amount} {unit} (Usage Quantity: {usage_quantity})\"\n",
    "\n",
    "\n",
    "# Usage example: Fetch AWS bill for May 2023\n",
    "start_date = '2023-04-01'\n",
    "end_date = '2023-05-30'\n",
    "bill = get_aws_monthly_bill(start_date, end_date)\n",
    "print(bill)\n"
   ]
  },
  {
   "cell_type": "code",
   "execution_count": null,
   "outputs": [],
   "source": [],
   "metadata": {
    "collapsed": false
   }
  }
 ],
 "metadata": {
  "interpreter": {
   "hash": "aee8b7b246df8f9039afb4144a1f6fd8d2ca17a180786b69acc140d282b71a49"
  },
  "kernelspec": {
   "name": "python3",
   "language": "python",
   "display_name": "Python 3 (ipykernel)"
  },
  "language_info": {
   "codemirror_mode": {
    "name": "ipython",
    "version": 3
   },
   "file_extension": ".py",
   "mimetype": "text/x-python",
   "name": "python",
   "nbconvert_exporter": "python",
   "pygments_lexer": "ipython3",
   "version": "3.9.12"
  },
  "orig_nbformat": 4
 },
 "nbformat": 4,
 "nbformat_minor": 2
}
